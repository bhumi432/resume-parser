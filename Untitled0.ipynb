{
  "nbformat": 4,
  "nbformat_minor": 0,
  "metadata": {
    "colab": {
      "provenance": [],
      "authorship_tag": "ABX9TyNI/Bx1kpLWeE1jxTa2ZlPY",
      "include_colab_link": true
    },
    "kernelspec": {
      "name": "python3",
      "display_name": "Python 3"
    },
    "language_info": {
      "name": "python"
    }
  },
  "cells": [
    {
      "cell_type": "markdown",
      "metadata": {
        "id": "view-in-github",
        "colab_type": "text"
      },
      "source": [
        "<a href=\"https://colab.research.google.com/github/bhumi432/resume-parser/blob/main/Untitled0.ipynb\" target=\"_parent\"><img src=\"https://colab.research.google.com/assets/colab-badge.svg\" alt=\"Open In Colab\"/></a>"
      ]
    },
    {
      "cell_type": "code",
      "source": [
        "!pip install pdfplumber"
      ],
      "metadata": {
        "colab": {
          "base_uri": "https://localhost:8080/"
        },
        "id": "vQa5f9Vq75HM",
        "outputId": "d450903f-9185-430f-a56c-667136c9d13d"
      },
      "execution_count": null,
      "outputs": [
        {
          "output_type": "stream",
          "name": "stdout",
          "text": [
            "Requirement already satisfied: pdfplumber in /usr/local/lib/python3.11/dist-packages (0.11.7)\n",
            "Requirement already satisfied: pdfminer.six==20250506 in /usr/local/lib/python3.11/dist-packages (from pdfplumber) (20250506)\n",
            "Requirement already satisfied: Pillow>=9.1 in /usr/local/lib/python3.11/dist-packages (from pdfplumber) (11.2.1)\n",
            "Requirement already satisfied: pypdfium2>=4.18.0 in /usr/local/lib/python3.11/dist-packages (from pdfplumber) (4.30.1)\n",
            "Requirement already satisfied: charset-normalizer>=2.0.0 in /usr/local/lib/python3.11/dist-packages (from pdfminer.six==20250506->pdfplumber) (3.4.2)\n",
            "Requirement already satisfied: cryptography>=36.0.0 in /usr/local/lib/python3.11/dist-packages (from pdfminer.six==20250506->pdfplumber) (43.0.3)\n",
            "Requirement already satisfied: cffi>=1.12 in /usr/local/lib/python3.11/dist-packages (from cryptography>=36.0.0->pdfminer.six==20250506->pdfplumber) (1.17.1)\n",
            "Requirement already satisfied: pycparser in /usr/local/lib/python3.11/dist-packages (from cffi>=1.12->cryptography>=36.0.0->pdfminer.six==20250506->pdfplumber) (2.22)\n"
          ]
        }
      ]
    },
    {
      "cell_type": "code",
      "source": [
        "import pdfplumber"
      ],
      "metadata": {
        "id": "M_HVkJok8HVQ"
      },
      "execution_count": null,
      "outputs": []
    },
    {
      "cell_type": "code",
      "source": [
        "with pdfplumber.open(\"/content/bhumi_s_resume (5).pdf\") as pdf:\n",
        "  all_text=\"\"\n",
        "  for page in pdf.pages:\n",
        "    all_text+= page.extract_text()\n",
        "  print(all_text)"
      ],
      "metadata": {
        "id": "c7FwvLt38M8u",
        "colab": {
          "base_uri": "https://localhost:8080/"
        },
        "outputId": "7f115904-b667-4947-f064-e23ec0c13284"
      },
      "execution_count": null,
      "outputs": [
        {
          "output_type": "stream",
          "name": "stdout",
          "text": [
            "Bhumi Shukla\n",
            "+919170397031 | bhumishukla456@gmail.com | linkedin.com/in/bhumi-shukla | github.com/bhumi432\n",
            "Technical Skills\n",
            "Languages: Java, Python, C/C++, SQL (Postgres), JavaScript, HTML/CSS, Dart\n",
            "Design Architecture: Bloc(flutter) architecture\n",
            "Developer Tools: Git, Android Studio, Visual Studio, PyCharm, IntelliJ, Eclipse, Google colab, Jupyter\n",
            "Libraries: pandas, NumPy, Matplotlib, pytorch\n",
            "Soft Skills: Communication, Leadership, Teamwork, Problem-solving, Presentation skills\n",
            "Education\n",
            "G.L. Bajaj Institute of Technology and Management Greater Noida, Uttar Pradesh\n",
            "Bachelor of Technology in Computer Science, Specialization in Artificial Intelligence Nov 2022 – July 2026\n",
            "MPVM Ganga Gurukulam Prayagraj, Uttar Pradesh\n",
            "Class 12th 2021 – 2022\n",
            "Experience\n",
            "Flutter Developer Internship May 2025 – May 2025\n",
            "The Technovators Remote\n",
            "• Develop and manage software workflows for a fantasy gaming application using Bloc architecture.\n",
            "• Engineer core features of a cricket-based betting style gaming platform, including real-time data handling and user\n",
            "interaction flows.\n",
            "• Collaborate with cross-functional teams to optimize state management using Bloc, improving code maintainability\n",
            "and development efficiency by 30 percent.\n",
            "• Achieveda50percentimprovementinUIperformance, resultinginfasterloadtimeandenhanceduserexperience.\n",
            "• Increase code re-usability by 30 percent and development speed by 20 percent, streamlining the workflow and\n",
            "reducing overall development time.\n",
            "Projects\n",
            "JusticeGPT | HTML, CSS, JavaScript, OpenAI API, Text-to-Speech, Speech-to-Text, js-PDF\n",
            "• Developed an AI-based full-stack web application to solve legal queries of users based on their situational inputs.\n",
            "• Integrated GPT-3.5 API, Web Speech API (TTS/STT), and jsPDF for enhanced interactivity and output.\n",
            "• Contributed to front-end design, modeling the UI for a smooth and user-friendly experience.\n",
            "Tricket App | Flutter, Dart, BLoC , Firebase, REST APIs, Git, Figma\n",
            "• Built a fantasy sports app with real-time team selection, contests, and live score updates.\n",
            "• Managed BLoC architecture and developed modules for team creation, contests, leaderboard, and wallet.\n",
            "• Enhanced performance and maintainability through scalable state management.\n",
            "Face Detection Web App | JavaScript, HTML, CSS, TensorFlow.js, face-api.js\n",
            "• Implemented real-time face detection and facial landmark tracking using deep learning models.\n",
            "• Developed expression recognition system to classify emotions like happy, sad, and neutral.\n",
            "Certifications\n",
            "Google Android Developer\n",
            "Blue Prism RPA\n",
            "Cisco Python Course\n",
            "Other Experience\n",
            "• Solved over 200+ questions on leetcode.\n",
            "• Engaged in 5+ tech events, participated in various hackathons.\n"
          ]
        }
      ]
    },
    {
      "cell_type": "code",
      "source": [
        "with pdfplumber.open(\"/content/bhumi_s_resume (5).pdf\") as pdf:\n",
        "  page= pdf.pages[0]\n",
        "  print(page.extract_text())"
      ],
      "metadata": {
        "id": "vktRKjZF-4XH",
        "colab": {
          "base_uri": "https://localhost:8080/"
        },
        "outputId": "acb5e33d-05af-4bd6-ff3b-db35e04ec793"
      },
      "execution_count": null,
      "outputs": [
        {
          "output_type": "stream",
          "name": "stdout",
          "text": [
            "Bhumi Shukla\n",
            "+919170397031 | bhumishukla456@gmail.com | linkedin.com/in/bhumi-shukla | github.com/bhumi432\n",
            "Technical Skills\n",
            "Languages: Java, Python, C/C++, SQL (Postgres), JavaScript, HTML/CSS, Dart\n",
            "Design Architecture: Bloc(flutter) architecture\n",
            "Developer Tools: Git, Android Studio, Visual Studio, PyCharm, IntelliJ, Eclipse, Google colab, Jupyter\n",
            "Libraries: pandas, NumPy, Matplotlib, pytorch\n",
            "Soft Skills: Communication, Leadership, Teamwork, Problem-solving, Presentation skills\n",
            "Education\n",
            "G.L. Bajaj Institute of Technology and Management Greater Noida, Uttar Pradesh\n",
            "Bachelor of Technology in Computer Science, Specialization in Artificial Intelligence Nov 2022 – July 2026\n",
            "MPVM Ganga Gurukulam Prayagraj, Uttar Pradesh\n",
            "Class 12th 2021 – 2022\n",
            "Experience\n",
            "Flutter Developer Internship May 2025 – May 2025\n",
            "The Technovators Remote\n",
            "• Develop and manage software workflows for a fantasy gaming application using Bloc architecture.\n",
            "• Engineer core features of a cricket-based betting style gaming platform, including real-time data handling and user\n",
            "interaction flows.\n",
            "• Collaborate with cross-functional teams to optimize state management using Bloc, improving code maintainability\n",
            "and development efficiency by 30 percent.\n",
            "• Achieveda50percentimprovementinUIperformance, resultinginfasterloadtimeandenhanceduserexperience.\n",
            "• Increase code re-usability by 30 percent and development speed by 20 percent, streamlining the workflow and\n",
            "reducing overall development time.\n",
            "Projects\n",
            "JusticeGPT | HTML, CSS, JavaScript, OpenAI API, Text-to-Speech, Speech-to-Text, js-PDF\n",
            "• Developed an AI-based full-stack web application to solve legal queries of users based on their situational inputs.\n",
            "• Integrated GPT-3.5 API, Web Speech API (TTS/STT), and jsPDF for enhanced interactivity and output.\n",
            "• Contributed to front-end design, modeling the UI for a smooth and user-friendly experience.\n",
            "Tricket App | Flutter, Dart, BLoC , Firebase, REST APIs, Git, Figma\n",
            "• Built a fantasy sports app with real-time team selection, contests, and live score updates.\n",
            "• Managed BLoC architecture and developed modules for team creation, contests, leaderboard, and wallet.\n",
            "• Enhanced performance and maintainability through scalable state management.\n",
            "Face Detection Web App | JavaScript, HTML, CSS, TensorFlow.js, face-api.js\n",
            "• Implemented real-time face detection and facial landmark tracking using deep learning models.\n",
            "• Developed expression recognition system to classify emotions like happy, sad, and neutral.\n",
            "Certifications\n",
            "Google Android Developer\n",
            "Blue Prism RPA\n",
            "Cisco Python Course\n",
            "Other Experience\n",
            "• Solved over 200+ questions on leetcode.\n",
            "• Engaged in 5+ tech events, participated in various hackathons.\n"
          ]
        }
      ]
    },
    {
      "cell_type": "code",
      "source": [
        "with pdfplumber.open(\"/content/sample_table.pdf\") as pdf:\n",
        "  page=pdf.pages[0]\n",
        "  tables=page.extract_tables()\n",
        "  for table in tables:\n",
        "    for row in table:\n",
        "      print(row)\n"
      ],
      "metadata": {
        "id": "-0_UI_yi_ThN",
        "colab": {
          "base_uri": "https://localhost:8080/"
        },
        "outputId": "7defea66-95fb-40d5-e58b-07bb91efc8ea"
      },
      "execution_count": null,
      "outputs": [
        {
          "output_type": "stream",
          "name": "stdout",
          "text": [
            "['ID', 'Name', 'Department', 'Salary']\n",
            "['1', 'Alice Smith', 'Engineering', '$80,000']\n",
            "['2', 'Bob Johnson', 'Marketing', '$72,000']\n",
            "['3', 'Carol White', 'Finance', '$77,000']\n",
            "['4', 'David Brown', 'HR', '$69,000']\n",
            "['5', 'Eve Davis', 'Engineering', '$85,000']\n"
          ]
        }
      ]
    },
    {
      "cell_type": "code",
      "source": [
        "with pdfplumber.open(\"/content/bhumi_s_resume (5).pdf\") as pdf:\n",
        "  page=pdf.pages[0]\n",
        "  for word in page.extract_words():\n",
        "    print(word)"
      ],
      "metadata": {
        "id": "p-ijB-qKEvm1",
        "colab": {
          "base_uri": "https://localhost:8080/"
        },
        "outputId": "ddcc6303-9be3-4fc8-9466-dc5a6c6ea494"
      },
      "execution_count": null,
      "outputs": [
        {
          "output_type": "stream",
          "name": "stdout",
          "text": [
            "{'text': 'Bhumi', 'x0': 219.984, 'x1': 301.00807248, 'top': 33.234597399999984, 'doctop': 33.234597399999984, 'bottom': 58.021697399999994, 'upright': True, 'height': 24.78710000000001, 'width': 81.02407248, 'direction': 'ltr'}\n",
            "{'text': 'Shukla', 'x0': 310.30323498, 'x1': 392.02878239, 'top': 33.234597399999984, 'doctop': 33.234597399999984, 'bottom': 58.021697399999994, 'upright': True, 'height': 24.78710000000001, 'width': 81.72554740999999, 'direction': 'ltr'}\n",
            "{'text': '+919170397031', 'x0': 83.44500000000002, 'x1': 150.96951028, 'top': 58.135144399999945, 'doctop': 58.135144399999945, 'bottom': 68.09774440000001, 'upright': True, 'height': 9.962600000000066, 'width': 67.52451027999999, 'direction': 'ltr'}\n",
            "{'text': '|', 'x0': 154.29100000000003, 'x1': 157.05861028000004, 'top': 58.135144399999945, 'doctop': 58.135144399999945, 'bottom': 68.09774440000001, 'upright': True, 'height': 9.962600000000066, 'width': 2.7676102800000137, 'direction': 'ltr'}\n",
            "{'text': 'bhumishukla456@gmail.com', 'x0': 160.37900000000002, 'x1': 282.47365178, 'top': 58.135144399999945, 'doctop': 58.135144399999945, 'bottom': 68.09774440000001, 'upright': True, 'height': 9.962600000000066, 'width': 122.09465177999999, 'direction': 'ltr'}\n",
            "{'text': '|', 'x0': 285.798, 'x1': 288.56561028, 'top': 58.135144399999945, 'doctop': 58.135144399999945, 'bottom': 68.09774440000001, 'upright': True, 'height': 9.962600000000066, 'width': 2.7676102799999853, 'direction': 'ltr'}\n",
            "{'text': 'linkedin.com/in/bhumi-shukla', 'x0': 291.886, 'x1': 423.38933122000003, 'top': 58.135144399999945, 'doctop': 58.135144399999945, 'bottom': 68.09774440000001, 'upright': True, 'height': 9.962600000000066, 'width': 131.50333122, 'direction': 'ltr'}\n",
            "{'text': '|', 'x0': 426.714, 'x1': 429.48161028, 'top': 58.135144399999945, 'doctop': 58.135144399999945, 'bottom': 68.09774440000001, 'upright': True, 'height': 9.962600000000066, 'width': 2.7676102799999853, 'direction': 'ltr'}\n",
            "{'text': 'github.com/bhumi432', 'x0': 432.803, 'x1': 528.55255234, 'top': 58.135144399999945, 'doctop': 58.135144399999945, 'bottom': 68.09774440000001, 'upright': True, 'height': 9.962600000000066, 'width': 95.74955234000004, 'direction': 'ltr'}\n",
            "{'text': 'Technical', 'x0': 36.0, 'x1': 97.94586880000001, 'top': 81.90679999999998, 'doctop': 81.90679999999998, 'bottom': 93.86199999999997, 'upright': True, 'height': 11.95519999999999, 'width': 61.945868800000014, 'direction': 'ltr'}\n",
            "{'text': 'Skills', 'x0': 102.4649344, 'x1': 138.72864256000003, 'top': 81.90679999999998, 'doctop': 81.90679999999998, 'bottom': 93.86199999999997, 'upright': True, 'height': 11.95519999999999, 'width': 36.26370816000002, 'direction': 'ltr'}\n",
            "{'text': 'Languages:', 'x0': 46.8, 'x1': 101.55361028, 'top': 103.70814440000004, 'doctop': 103.70814440000004, 'bottom': 113.6707444000001, 'upright': True, 'height': 9.962600000000066, 'width': 54.753610280000004, 'direction': 'ltr'}\n",
            "{'text': 'Java,', 'x0': 105.97700468000001, 'x1': 128.25835958000002, 'top': 103.70814440000004, 'doctop': 103.70814440000004, 'bottom': 113.6707444000001, 'upright': True, 'height': 9.962600000000066, 'width': 22.28135490000001, 'direction': 'ltr'}\n",
            "{'text': 'Python,', 'x0': 131.57590538, 'x1': 166.30851776, 'top': 103.70814440000004, 'doctop': 103.70814440000004, 'bottom': 113.6707444000001, 'upright': True, 'height': 9.962600000000066, 'width': 34.732612380000006, 'direction': 'ltr'}\n",
            "{'text': 'C/C++,', 'x0': 169.63602616, 'x1': 207.27273644000002, 'top': 103.70814440000004, 'doctop': 103.70814440000004, 'bottom': 113.6707444000001, 'upright': True, 'height': 9.962600000000066, 'width': 37.63671028000002, 'direction': 'ltr'}\n",
            "{'text': 'SQL', 'x0': 210.59028224000002, 'x1': 230.10103808000002, 'top': 103.70814440000004, 'doctop': 103.70814440000004, 'bottom': 113.6707444000001, 'upright': True, 'height': 9.962600000000066, 'width': 19.51075584, 'direction': 'ltr'}\n",
            "{'text': '(Postgres),', 'x0': 233.41858388000003, 'x1': 280.4619810800001, 'top': 103.70814440000004, 'doctop': 103.70814440000004, 'bottom': 113.6707444000001, 'upright': True, 'height': 9.962600000000066, 'width': 47.04339720000007, 'direction': 'ltr'}\n",
            "{'text': 'JavaScript,', 'x0': 283.7894894800001, 'x1': 332.10311818000014, 'top': 103.70814440000004, 'doctop': 103.70814440000004, 'bottom': 113.6707444000001, 'upright': True, 'height': 9.962600000000066, 'width': 48.31362870000004, 'direction': 'ltr'}\n",
            "{'text': 'HTML/CSS,', 'x0': 335.43062658000014, 'x1': 391.47124784000016, 'top': 103.70814440000004, 'doctop': 103.70814440000004, 'bottom': 113.6707444000001, 'upright': True, 'height': 9.962600000000066, 'width': 56.04062126000002, 'direction': 'ltr'}\n",
            "{'text': 'Dart', 'x0': 394.78879364000016, 'x1': 415.15732934000016, 'top': 103.70814440000004, 'doctop': 103.70814440000004, 'bottom': 113.6707444000001, 'upright': True, 'height': 9.962600000000066, 'width': 20.368535699999995, 'direction': 'ltr'}\n",
            "{'text': 'Design', 'x0': 46.800000000000004, 'x1': 80.63199334000001, 'top': 115.66314440000008, 'doctop': 115.66314440000008, 'bottom': 125.62574440000014, 'upright': True, 'height': 9.962600000000066, 'width': 33.831993340000004, 'direction': 'ltr'}\n",
            "{'text': 'Architecture:', 'x0': 84.44766914, 'x1': 150.50861028000003, 'top': 115.66314440000008, 'doctop': 115.66314440000008, 'bottom': 125.62574440000014, 'upright': True, 'height': 9.962600000000066, 'width': 66.06094114000003, 'direction': 'ltr'}\n",
            "{'text': 'Bloc(flutter)', 'x0': 154.93200468, 'x1': 209.34174832000002, 'top': 115.66314440000008, 'doctop': 115.66314440000008, 'bottom': 125.62574440000014, 'upright': True, 'height': 9.962600000000066, 'width': 54.409743640000016, 'direction': 'ltr'}\n",
            "{'text': 'architecture', 'x0': 212.66925672000002, 'x1': 264.4727842, 'top': 115.66314440000008, 'doctop': 115.66314440000008, 'bottom': 125.62574440000014, 'upright': True, 'height': 9.962600000000066, 'width': 51.80352747999996, 'direction': 'ltr'}\n",
            "{'text': 'Developer', 'x0': 46.80000000000001, 'x1': 97.38012020000002, 'top': 127.61814440000012, 'doctop': 127.61814440000012, 'bottom': 137.58074440000019, 'upright': True, 'height': 9.962600000000066, 'width': 50.58012020000001, 'direction': 'ltr'}\n",
            "{'text': 'Tools:', 'x0': 101.195796, 'x1': 130.45961028000002, 'top': 127.61814440000012, 'doctop': 127.61814440000012, 'bottom': 137.58074440000019, 'upright': True, 'height': 9.962600000000066, 'width': 29.26381428000002, 'direction': 'ltr'}\n",
            "{'text': 'Git,', 'x0': 134.88300468, 'x1': 152.11033260000002, 'top': 127.61814440000012, 'doctop': 127.61814440000012, 'bottom': 137.58074440000019, 'upright': True, 'height': 9.962600000000066, 'width': 17.227327920000022, 'direction': 'ltr'}\n",
            "{'text': 'Android', 'x0': 155.437841, 'x1': 191.16671338, 'top': 127.61814440000012, 'doctop': 127.61814440000012, 'bottom': 137.58074440000019, 'upright': True, 'height': 9.962600000000066, 'width': 35.72887238000001, 'direction': 'ltr'}\n",
            "{'text': 'Studio,', 'x0': 194.48425917999998, 'x1': 225.48089656, 'top': 127.61814440000012, 'doctop': 127.61814440000012, 'bottom': 137.58074440000019, 'upright': True, 'height': 9.962600000000066, 'width': 30.99663738000001, 'direction': 'ltr'}\n",
            "{'text': 'Visual', 'x0': 228.79844236, 'x1': 256.25138291999997, 'top': 127.61814440000012, 'doctop': 127.61814440000012, 'bottom': 137.58074440000019, 'upright': True, 'height': 9.962600000000066, 'width': 27.452940559999973, 'direction': 'ltr'}\n",
            "{'text': 'Studio,', 'x0': 259.56892872000003, 'x1': 290.5655661, 'top': 127.61814440000012, 'doctop': 127.61814440000012, 'bottom': 137.58074440000019, 'upright': True, 'height': 9.962600000000066, 'width': 30.99663737999998, 'direction': 'ltr'}\n",
            "{'text': 'PyCharm,', 'x0': 293.8930745, 'x1': 338.60522330000003, 'top': 127.61814440000012, 'doctop': 127.61814440000012, 'bottom': 137.58074440000019, 'upright': True, 'height': 9.962600000000066, 'width': 44.71214880000002, 'direction': 'ltr'}\n",
            "{'text': 'IntelliJ,', 'x0': 341.9327317000001, 'x1': 375.2785501600001, 'top': 127.61814440000012, 'doctop': 127.61814440000012, 'bottom': 137.58074440000019, 'upright': True, 'height': 9.962600000000066, 'width': 33.34581846000003, 'direction': 'ltr'}\n",
            "{'text': 'Eclipse,', 'x0': 378.5960959600001, 'x1': 411.99870124000006, 'top': 127.61814440000012, 'doctop': 127.61814440000012, 'bottom': 137.58074440000019, 'upright': True, 'height': 9.962600000000066, 'width': 33.40260527999993, 'direction': 'ltr'}\n",
            "{'text': 'Google', 'x0': 415.32620964000006, 'x1': 445.55174178, 'top': 127.61814440000012, 'doctop': 127.61814440000012, 'bottom': 137.58074440000019, 'upright': True, 'height': 9.962600000000066, 'width': 30.225532139999927, 'direction': 'ltr'}\n",
            "{'text': 'colab,', 'x0': 448.87925018, 'x1': 474.3396707399999, 'top': 127.61814440000012, 'doctop': 127.61814440000012, 'bottom': 137.58074440000019, 'upright': True, 'height': 9.962600000000066, 'width': 25.460420559999932, 'direction': 'ltr'}\n",
            "{'text': 'Jupyter', 'x0': 477.6572165399999, 'x1': 511.03093027999995, 'top': 127.61814440000012, 'doctop': 127.61814440000012, 'bottom': 137.58074440000019, 'upright': True, 'height': 9.962600000000066, 'width': 33.37371374000003, 'direction': 'ltr'}\n",
            "{'text': 'Libraries:', 'x0': 46.80000000000001, 'x1': 93.96461028, 'top': 139.57414440000014, 'doctop': 139.57414440000014, 'bottom': 149.5367444000002, 'upright': True, 'height': 9.962600000000066, 'width': 47.16461027999999, 'direction': 'ltr'}\n",
            "{'text': 'pandas,', 'x0': 98.38800468000001, 'x1': 131.65312608000002, 'top': 139.57414440000014, 'doctop': 139.57414440000014, 'bottom': 149.5367444000002, 'upright': True, 'height': 9.962600000000066, 'width': 33.26512140000001, 'direction': 'ltr'}\n",
            "{'text': 'NumPy,', 'x0': 134.98063448, 'x1': 170.25919734000004, 'top': 139.57414440000014, 'doctop': 139.57414440000014, 'bottom': 149.5367444000002, 'upright': True, 'height': 9.962600000000066, 'width': 35.27856286000005, 'direction': 'ltr'}\n",
            "{'text': 'Matplotlib,', 'x0': 173.58670574, 'x1': 222.56185108000003, 'top': 139.57414440000014, 'doctop': 139.57414440000014, 'bottom': 149.5367444000002, 'upright': True, 'height': 9.962600000000066, 'width': 48.97514534000001, 'direction': 'ltr'}\n",
            "{'text': 'pytorch', 'x0': 225.88935948000002, 'x1': 258.84564028000005, 'top': 139.57414440000014, 'doctop': 139.57414440000014, 'bottom': 149.5367444000002, 'upright': True, 'height': 9.962600000000066, 'width': 32.95628080000003, 'direction': 'ltr'}\n",
            "{'text': 'Soft', 'x0': 46.800000000000004, 'x1': 66.8497325, 'top': 151.52914440000018, 'doctop': 151.52914440000018, 'bottom': 161.49174440000024, 'upright': True, 'height': 9.962600000000066, 'width': 20.049732499999998, 'direction': 'ltr'}\n",
            "{'text': 'Skills:', 'x0': 70.66540830000001, 'x1': 99.91461028, 'top': 151.52914440000018, 'doctop': 151.52914440000018, 'bottom': 161.49174440000024, 'upright': True, 'height': 9.962600000000066, 'width': 29.249201979999995, 'direction': 'ltr'}\n",
            "{'text': 'Communication,', 'x0': 104.33800468000001, 'x1': 176.02190046, 'top': 151.52914440000018, 'doctop': 151.52914440000018, 'bottom': 161.49174440000024, 'upright': True, 'height': 9.962600000000066, 'width': 71.68389578, 'direction': 'ltr'}\n",
            "{'text': 'Leadership,', 'x0': 179.33944626000002, 'x1': 229.37461224000006, 'top': 151.52914440000018, 'doctop': 151.52914440000018, 'bottom': 161.49174440000024, 'upright': True, 'height': 9.962600000000066, 'width': 50.035165980000045, 'direction': 'ltr'}\n",
            "{'text': 'Teamwork,', 'x0': 232.69215804000004, 'x1': 280.31737108000004, 'top': 151.52914440000018, 'doctop': 151.52914440000018, 'bottom': 161.49174440000024, 'upright': True, 'height': 9.962600000000066, 'width': 47.625213040000006, 'direction': 'ltr'}\n",
            "{'text': 'Problem-solving,', 'x0': 283.64487948000004, 'x1': 356.6498160200001, 'top': 151.52914440000018, 'doctop': 151.52914440000018, 'bottom': 161.49174440000024, 'upright': True, 'height': 9.962600000000066, 'width': 73.00493654000007, 'direction': 'ltr'}\n",
            "{'text': 'Presentation', 'x0': 359.9673618200001, 'x1': 414.7048750000001, 'top': 151.52914440000018, 'doctop': 151.52914440000018, 'bottom': 161.49174440000024, 'upright': True, 'height': 9.962600000000066, 'width': 54.73751317999995, 'direction': 'ltr'}\n",
            "{'text': 'skills', 'x0': 418.0224208000001, 'x1': 439.4420108, 'top': 151.52914440000018, 'doctop': 151.52914440000018, 'bottom': 161.49174440000024, 'upright': True, 'height': 9.962600000000066, 'width': 21.419589999999914, 'direction': 'ltr'}\n",
            "{'text': 'Education', 'x0': 36.00000000000001, 'x1': 98.87239680000002, 'top': 174.00580000000025, 'doctop': 174.00580000000025, 'bottom': 185.96100000000024, 'upright': True, 'height': 11.95519999999999, 'width': 62.87239680000001, 'direction': 'ltr'}\n",
            "{'text': 'G.L.', 'x0': 46.8, 'x1': 71.17856577, 'top': 195.06426539999995, 'doctop': 195.06426539999995, 'bottom': 205.97336539999992, 'upright': True, 'height': 10.909099999999967, 'width': 24.37856577000001, 'direction': 'ltr'}\n",
            "{'text': 'Bajaj', 'x0': 75.35675107, 'x1': 105.54113986000002, 'top': 195.06426539999995, 'doctop': 195.06426539999995, 'bottom': 205.97336539999992, 'upright': True, 'height': 10.909099999999967, 'width': 30.184388790000014, 'direction': 'ltr'}\n",
            "{'text': 'Institute', 'x0': 109.71932516000001, 'x1': 157.23500112, 'top': 195.06426539999995, 'doctop': 195.06426539999995, 'bottom': 205.97336539999992, 'upright': True, 'height': 10.909099999999967, 'width': 47.51567595999998, 'direction': 'ltr'}\n",
            "{'text': 'of', 'x0': 161.42409551999998, 'x1': 171.53028576, 'top': 195.06426539999995, 'doctop': 195.06426539999995, 'bottom': 205.97336539999992, 'upright': True, 'height': 10.909099999999967, 'width': 10.106190240000018, 'direction': 'ltr'}\n",
            "{'text': 'Technology', 'x0': 175.70847106000002, 'x1': 237.22815868999996, 'top': 195.06426539999995, 'doctop': 195.06426539999995, 'bottom': 205.97336539999992, 'upright': True, 'height': 10.909099999999967, 'width': 61.519687629999936, 'direction': 'ltr'}\n",
            "{'text': 'and', 'x0': 241.41725308999997, 'x1': 261.45508796999997, 'top': 195.06426539999995, 'doctop': 195.06426539999995, 'bottom': 205.97336539999992, 'upright': True, 'height': 10.909099999999967, 'width': 20.03783487999999, 'direction': 'ltr'}\n",
            "{'text': 'Management', 'x0': 265.63327326999996, 'x1': 336.43551409, 'top': 195.06426539999995, 'doctop': 195.06426539999995, 'bottom': 205.97336539999992, 'upright': True, 'height': 10.909099999999967, 'width': 70.80224082000007, 'direction': 'ltr'}\n",
            "{'text': 'Greater', 'x0': 427.161, 'x1': 463.66066678, 'top': 195.06426539999995, 'doctop': 195.06426539999995, 'bottom': 205.97336539999992, 'upright': True, 'height': 10.909099999999967, 'width': 36.499666779999984, 'direction': 'ltr'}\n",
            "{'text': 'Noida,', 'x0': 467.29339708, 'x1': 498.506514, 'top': 195.06426539999995, 'doctop': 195.06426539999995, 'bottom': 205.97336539999992, 'upright': True, 'height': 10.909099999999967, 'width': 31.213116920000004, 'direction': 'ltr'}\n",
            "{'text': 'Uttar', 'x0': 502.1501534, 'x1': 528.5447208500001, 'top': 195.06426539999995, 'doctop': 195.06426539999995, 'bottom': 205.97336539999992, 'upright': True, 'height': 10.909099999999967, 'width': 26.394567450000068, 'direction': 'ltr'}\n",
            "{'text': 'Pradesh', 'x0': 532.17745115, 'x1': 570.60257408, 'top': 195.06426539999995, 'doctop': 195.06426539999995, 'bottom': 205.97336539999992, 'upright': True, 'height': 10.909099999999967, 'width': 38.42512292999993, 'direction': 'ltr'}\n",
            "{'text': 'Bachelor', 'x0': 46.80000000000001, 'x1': 85.00158970000001, 'top': 209.37614439999993, 'doctop': 209.37614439999993, 'bottom': 219.3387444, 'upright': True, 'height': 9.962600000000066, 'width': 38.2015897, 'direction': 'ltr'}\n",
            "{'text': 'of', 'x0': 88.56820050000002, 'x1': 96.71561478000001, 'top': 209.37614439999993, 'doctop': 209.37614439999993, 'bottom': 219.3387444, 'upright': True, 'height': 9.962600000000066, 'width': 8.147414279999992, 'direction': 'ltr'}\n",
            "{'text': 'Technology', 'x0': 100.27226298000001, 'x1': 147.62748956, 'top': 209.37614439999993, 'doctop': 209.37614439999993, 'bottom': 219.3387444, 'upright': True, 'height': 9.962600000000066, 'width': 47.35522657999998, 'direction': 'ltr'}\n",
            "{'text': 'in', 'x0': 151.19410036, 'x1': 159.85060350000003, 'top': 209.37614439999993, 'doctop': 209.37614439999993, 'bottom': 219.3387444, 'upright': True, 'height': 9.962600000000066, 'width': 8.65650314000004, 'direction': 'ltr'}\n",
            "{'text': 'Computer', 'x0': 163.4172143, 'x1': 206.31816242000002, 'top': 209.37614439999993, 'doctop': 209.37614439999993, 'bottom': 219.3387444, 'upright': True, 'height': 9.962600000000066, 'width': 42.90094812000001, 'direction': 'ltr'}\n",
            "{'text': 'Science,', 'x0': 209.88477322000003, 'x1': 245.02087090000006, 'top': 209.37614439999993, 'doctop': 209.37614439999993, 'bottom': 219.3387444, 'upright': True, 'height': 9.962600000000066, 'width': 35.136097680000034, 'direction': 'ltr'}\n",
            "{'text': 'Specialization', 'x0': 248.57751910000007, 'x1': 307.3927244600001, 'top': 209.37614439999993, 'doctop': 209.37614439999993, 'bottom': 219.3387444, 'upright': True, 'height': 9.962600000000066, 'width': 58.81520536000005, 'direction': 'ltr'}\n",
            "{'text': 'in', 'x0': 310.95933526000005, 'x1': 319.6158384000001, 'top': 209.37614439999993, 'doctop': 209.37614439999993, 'bottom': 219.3387444, 'upright': True, 'height': 9.962600000000066, 'width': 8.65650314000004, 'direction': 'ltr'}\n",
            "{'text': 'Artificial', 'x0': 323.18244920000006, 'x1': 361.7725803000001, 'top': 209.37614439999993, 'doctop': 209.37614439999993, 'bottom': 219.3387444, 'upright': True, 'height': 9.962600000000066, 'width': 38.59013110000001, 'direction': 'ltr'}\n",
            "{'text': 'Intelligence', 'x0': 365.33919110000005, 'x1': 414.75468336, 'top': 209.37614439999993, 'doctop': 209.37614439999993, 'bottom': 219.3387444, 'upright': True, 'height': 9.962600000000066, 'width': 49.41549225999995, 'direction': 'ltr'}\n",
            "{'text': 'Nov', 'x0': 474.12181676, 'x1': 491.20169819999995, 'top': 209.37614439999993, 'doctop': 209.37614439999993, 'bottom': 219.3387444, 'upright': True, 'height': 9.962600000000066, 'width': 17.07988143999995, 'direction': 'ltr'}\n",
            "{'text': '2022', 'x0': 494.76830899999993, 'x1': 515.1358484399999, 'top': 209.37614439999993, 'doctop': 209.37614439999993, 'bottom': 219.3387444, 'upright': True, 'height': 9.962600000000066, 'width': 20.367539439999973, 'direction': 'ltr'}\n",
            "{'text': '–', 'x0': 518.7024592399998, 'x1': 523.7943440999999, 'top': 209.37614439999993, 'doctop': 209.37614439999993, 'bottom': 219.3387444, 'upright': True, 'height': 9.962600000000066, 'width': 5.09188486000005, 'direction': 'ltr'}\n",
            "{'text': 'July', 'x0': 527.3609548999998, 'x1': 545.3125638399998, 'top': 209.37614439999993, 'doctop': 209.37614439999993, 'bottom': 219.3387444, 'upright': True, 'height': 9.962600000000066, 'width': 17.95160894000003, 'direction': 'ltr'}\n",
            "{'text': '2026', 'x0': 548.8791746399999, 'x1': 569.2467140800001, 'top': 209.37614439999993, 'doctop': 209.37614439999993, 'bottom': 219.3387444, 'upright': True, 'height': 9.962600000000066, 'width': 20.3675394400002, 'direction': 'ltr'}\n",
            "{'text': 'MPVM', 'x0': 46.80000000000001, 'x1': 88.67894399000001, 'top': 227.22426539999992, 'doctop': 227.22426539999992, 'bottom': 238.1333653999999, 'upright': True, 'height': 10.909099999999967, 'width': 41.878943989999996, 'direction': 'ltr'}\n",
            "{'text': 'Ganga', 'x0': 92.85712929000002, 'x1': 128.1600678, 'top': 227.22426539999992, 'doctop': 227.22426539999992, 'bottom': 238.1333653999999, 'upright': True, 'height': 10.909099999999967, 'width': 35.30293850999999, 'direction': 'ltr'}\n",
            "{'text': 'Gurukulam', 'x0': 132.34916220000002, 'x1': 194.94666891000003, 'top': 227.22426539999992, 'doctop': 227.22426539999992, 'bottom': 238.1333653999999, 'upright': True, 'height': 10.909099999999967, 'width': 62.597506710000005, 'direction': 'ltr'}\n",
            "{'text': 'Prayagraj,', 'x0': 448.6, 'x1': 498.51131432, 'top': 227.22426539999992, 'doctop': 227.22426539999992, 'bottom': 238.1333653999999, 'upright': True, 'height': 10.909099999999967, 'width': 49.911314319999974, 'direction': 'ltr'}\n",
            "{'text': 'Uttar', 'x0': 502.14404462000005, 'x1': 528.5386120700001, 'top': 227.22426539999992, 'doctop': 227.22426539999992, 'bottom': 238.1333653999999, 'upright': True, 'height': 10.909099999999967, 'width': 26.394567450000068, 'direction': 'ltr'}\n",
            "{'text': 'Pradesh', 'x0': 532.17134237, 'x1': 570.5964653, 'top': 227.22426539999992, 'doctop': 227.22426539999992, 'bottom': 238.1333653999999, 'upright': True, 'height': 10.909099999999967, 'width': 38.42512292999993, 'direction': 'ltr'}\n",
            "{'text': 'Class', 'x0': 46.80000000000001, 'x1': 69.71497626, 'top': 241.5361443999999, 'doctop': 241.5361443999999, 'bottom': 251.49874439999996, 'upright': True, 'height': 9.962600000000066, 'width': 22.91497625999999, 'direction': 'ltr'}\n",
            "{'text': '12th', 'x0': 73.28158706, 'x1': 91.86681736, 'top': 241.5361443999999, 'doctop': 241.5361443999999, 'bottom': 251.49874439999996, 'upright': True, 'height': 9.962600000000066, 'width': 18.585230299999992, 'direction': 'ltr'}\n",
            "{'text': '2021', 'x0': 516.293, 'x1': 536.6605394400001, 'top': 241.5361443999999, 'doctop': 241.5361443999999, 'bottom': 251.49874439999996, 'upright': True, 'height': 9.962600000000066, 'width': 20.367539440000087, 'direction': 'ltr'}\n",
            "{'text': '–', 'x0': 540.22715024, 'x1': 545.3190351000001, 'top': 241.5361443999999, 'doctop': 241.5361443999999, 'bottom': 251.49874439999996, 'upright': True, 'height': 9.962600000000066, 'width': 5.09188486000005, 'direction': 'ltr'}\n",
            "{'text': '2022', 'x0': 548.8856459, 'x1': 569.2531853400001, 'top': 241.5361443999999, 'doctop': 241.5361443999999, 'bottom': 251.49874439999996, 'upright': True, 'height': 9.962600000000066, 'width': 20.367539440000087, 'direction': 'ltr'}\n",
            "{'text': 'Experience', 'x0': 36.0, 'x1': 104.084864, 'top': 257.9157999999999, 'doctop': 257.9157999999999, 'bottom': 269.87099999999987, 'upright': True, 'height': 11.95519999999999, 'width': 68.084864, 'direction': 'ltr'}\n",
            "{'text': 'Flutter', 'x0': 46.8, 'x1': 85.8218507, 'top': 278.97426540000004, 'doctop': 278.97426540000004, 'bottom': 289.8833654, 'upright': True, 'height': 10.909099999999967, 'width': 39.0218507, 'direction': 'ltr'}\n",
            "{'text': 'Developer', 'x0': 90.00003600000001, 'x1': 145.38553670000002, 'top': 278.97426540000004, 'doctop': 278.97426540000004, 'bottom': 289.8833654, 'upright': True, 'height': 10.909099999999967, 'width': 55.38550070000001, 'direction': 'ltr'}\n",
            "{'text': 'Internship', 'x0': 149.5746311, 'x1': 206.09031456000002, 'top': 278.97426540000004, 'doctop': 278.97426540000004, 'bottom': 289.8833654, 'upright': True, 'height': 10.909099999999967, 'width': 56.51568346000002, 'direction': 'ltr'}\n",
            "{'text': 'May', 'x0': 465.146, 'x1': 486.05329015, 'top': 278.97426540000004, 'doctop': 278.97426540000004, 'bottom': 289.8833654, 'upright': True, 'height': 10.909099999999967, 'width': 20.907290149999994, 'direction': 'ltr'}\n",
            "{'text': '2025', 'x0': 489.68602045, 'x1': 511.50422045, 'top': 278.97426540000004, 'doctop': 278.97426540000004, 'bottom': 289.8833654, 'upright': True, 'height': 10.909099999999967, 'width': 21.81819999999999, 'direction': 'ltr'}\n",
            "{'text': '–', 'x0': 515.14785985, 'x1': 520.6024098500001, 'top': 278.97426540000004, 'doctop': 278.97426540000004, 'bottom': 289.8833654, 'upright': True, 'height': 10.909099999999967, 'width': 5.45455000000004, 'direction': 'ltr'}\n",
            "{'text': 'May', 'x0': 524.23514015, 'x1': 545.1424303, 'top': 278.97426540000004, 'doctop': 278.97426540000004, 'bottom': 289.8833654, 'upright': True, 'height': 10.909099999999967, 'width': 20.907290149999994, 'direction': 'ltr'}\n",
            "{'text': '2025', 'x0': 548.7860697, 'x1': 570.6042697, 'top': 278.97426540000004, 'doctop': 278.97426540000004, 'bottom': 289.8833654, 'upright': True, 'height': 10.909099999999967, 'width': 21.818200000000047, 'direction': 'ltr'}\n",
            "{'text': 'The', 'x0': 46.80000000000001, 'x1': 63.603917420000016, 'top': 293.28614439999996, 'doctop': 293.28614439999996, 'bottom': 303.24874439999996, 'upright': True, 'height': 9.962600000000009, 'width': 16.803917420000005, 'direction': 'ltr'}\n",
            "{'text': 'Technovators', 'x0': 67.17052822000001, 'x1': 124.32596442, 'top': 293.28614439999996, 'doctop': 293.28614439999996, 'bottom': 303.24874439999996, 'upright': True, 'height': 9.962600000000009, 'width': 57.1554362, 'direction': 'ltr'}\n",
            "{'text': 'Remote', 'x0': 537.379, 'x1': 569.8520947000001, 'top': 293.28614439999996, 'doctop': 293.28614439999996, 'bottom': 303.24874439999996, 'upright': True, 'height': 9.962600000000009, 'width': 32.47309470000005, 'direction': 'ltr'}\n",
            "{'text': '•', 'x0': 61.52600000000001, 'x1': 65.34508864000001, 'top': 309.1680544, 'doctop': 309.1680544, 'bottom': 315.1456544, 'upright': True, 'height': 5.977599999999995, 'width': 3.819088640000004, 'direction': 'ltr'}\n",
            "{'text': 'Develop', 'x0': 70.80000000000001, 'x1': 105.52862734000001, 'top': 307.2581444, 'doctop': 307.2581444, 'bottom': 317.2207444, 'upright': True, 'height': 9.962600000000009, 'width': 34.72862734, 'direction': 'ltr'}\n",
            "{'text': 'and', 'x0': 108.85613574000001, 'x1': 124.89791426000001, 'top': 307.2581444, 'doctop': 307.2581444, 'bottom': 317.2207444, 'upright': True, 'height': 9.962600000000009, 'width': 16.041778519999994, 'direction': 'ltr'}\n",
            "{'text': 'manage', 'x0': 128.22542266, 'x1': 161.43375724000003, 'top': 307.2581444, 'doctop': 307.2581444, 'bottom': 317.2207444, 'upright': True, 'height': 9.962600000000009, 'width': 33.20833458000004, 'direction': 'ltr'}\n",
            "{'text': 'software', 'x0': 164.75130304000004, 'x1': 200.53895476000005, 'top': 307.2581444, 'doctop': 307.2581444, 'bottom': 317.2207444, 'upright': True, 'height': 9.962600000000009, 'width': 35.787651720000014, 'direction': 'ltr'}\n",
            "{'text': 'workflows', 'x0': 203.85650056000003, 'x1': 246.27625510000001, 'top': 307.2581444, 'doctop': 307.2581444, 'bottom': 317.2207444, 'upright': True, 'height': 9.962600000000009, 'width': 42.419754539999985, 'direction': 'ltr'}\n",
            "{'text': 'for', 'x0': 249.6037635, 'x1': 261.53198448000006, 'top': 307.2581444, 'doctop': 307.2581444, 'bottom': 317.2207444, 'upright': True, 'height': 9.962600000000009, 'width': 11.928220980000049, 'direction': 'ltr'}\n",
            "{'text': 'a', 'x0': 264.84953028000007, 'x1': 269.83083028000004, 'top': 307.2581444, 'doctop': 307.2581444, 'bottom': 317.2207444, 'upright': True, 'height': 9.962600000000009, 'width': 4.981299999999976, 'direction': 'ltr'}\n",
            "{'text': 'fantasy', 'x0': 273.14837608000005, 'x1': 304.48374186000007, 'top': 307.2581444, 'doctop': 307.2581444, 'bottom': 317.2207444, 'upright': True, 'height': 9.962600000000009, 'width': 31.335365780000018, 'direction': 'ltr'}\n",
            "{'text': 'gaming', 'x0': 307.80128766000007, 'x1': 339.3498530800001, 'top': 307.2581444, 'doctop': 307.2581444, 'bottom': 317.2207444, 'upright': True, 'height': 9.962600000000009, 'width': 31.548565420000045, 'direction': 'ltr'}\n",
            "{'text': 'application', 'x0': 342.6673988800001, 'x1': 390.8216259800001, 'top': 307.2581444, 'doctop': 307.2581444, 'bottom': 317.2207444, 'upright': True, 'height': 9.962600000000009, 'width': 48.15422709999996, 'direction': 'ltr'}\n",
            "{'text': 'using', 'x0': 394.1391717800001, 'x1': 416.8877726200001, 'top': 307.2581444, 'doctop': 307.2581444, 'bottom': 317.2207444, 'upright': True, 'height': 9.962600000000009, 'width': 22.748600839999995, 'direction': 'ltr'}\n",
            "{'text': 'Bloc', 'x0': 420.2152810200001, 'x1': 439.71707052000005, 'top': 307.2581444, 'doctop': 307.2581444, 'bottom': 317.2207444, 'upright': True, 'height': 9.962600000000009, 'width': 19.501789499999973, 'direction': 'ltr'}\n",
            "{'text': 'architecture.', 'x0': 443.04457892000005, 'x1': 497.61571668, 'top': 307.2581444, 'doctop': 307.2581444, 'bottom': 317.2207444, 'upright': True, 'height': 9.962600000000009, 'width': 54.57113775999994, 'direction': 'ltr'}\n",
            "{'text': '•', 'x0': 61.52600000000001, 'x1': 65.34508864000001, 'top': 323.3530544, 'doctop': 323.3530544, 'bottom': 329.3306544, 'upright': True, 'height': 5.977599999999995, 'width': 3.819088640000004, 'direction': 'ltr'}\n",
            "{'text': 'Engineer', 'x0': 70.80000000000001, 'x1': 109.15700626000002, 'top': 321.20614439999997, 'doctop': 321.20614439999997, 'bottom': 331.1687444, 'upright': True, 'height': 9.962600000000009, 'width': 38.357006260000006, 'direction': 'ltr'}\n",
            "{'text': 'core', 'x0': 112.47455206000001, 'x1': 130.21296136, 'top': 321.20614439999997, 'doctop': 321.20614439999997, 'bottom': 331.1687444, 'upright': True, 'height': 9.962600000000009, 'width': 17.7384093, 'direction': 'ltr'}\n",
            "{'text': 'features', 'x0': 133.54046976, 'x1': 167.66237476, 'top': 321.20614439999997, 'doctop': 321.20614439999997, 'bottom': 331.1687444, 'upright': True, 'height': 9.962600000000009, 'width': 34.121905, 'direction': 'ltr'}\n",
            "{'text': 'of', 'x0': 170.97992055999998, 'x1': 179.00579112000003, 'top': 321.20614439999997, 'doctop': 321.20614439999997, 'bottom': 331.1687444, 'upright': True, 'height': 9.962600000000009, 'width': 8.025870560000044, 'direction': 'ltr'}\n",
            "{'text': 'a', 'x0': 182.32333692, 'x1': 187.30463692, 'top': 321.20614439999997, 'doctop': 321.20614439999997, 'bottom': 331.1687444, 'upright': True, 'height': 9.962600000000009, 'width': 4.9813000000000045, 'direction': 'ltr'}\n",
            "{'text': 'cricket-based', 'x0': 190.63214532, 'x1': 246.88795874000002, 'top': 321.20614439999997, 'doctop': 321.20614439999997, 'bottom': 331.1687444, 'upright': True, 'height': 9.962600000000009, 'width': 56.25581342000001, 'direction': 'ltr'}\n",
            "{'text': 'betting', 'x0': 250.20550454000002, 'x1': 281.4800984600001, 'top': 321.20614439999997, 'doctop': 321.20614439999997, 'bottom': 331.1687444, 'upright': True, 'height': 9.962600000000009, 'width': 31.274593920000058, 'direction': 'ltr'}\n",
            "{'text': 'style', 'x0': 284.8076068600001, 'x1': 304.7856086400001, 'top': 321.20614439999997, 'doctop': 321.20614439999997, 'bottom': 331.1687444, 'upright': True, 'height': 9.962600000000009, 'width': 19.97800178, 'direction': 'ltr'}\n",
            "{'text': 'gaming', 'x0': 308.10315444000014, 'x1': 339.6517198600001, 'top': 321.20614439999997, 'doctop': 321.20614439999997, 'bottom': 331.1687444, 'upright': True, 'height': 9.962600000000009, 'width': 31.54856541999999, 'direction': 'ltr'}\n",
            "{'text': 'platform,', 'x0': 342.96926566000013, 'x1': 383.1255174800001, 'top': 321.20614439999997, 'doctop': 321.20614439999997, 'bottom': 331.1687444, 'upright': True, 'height': 9.962600000000009, 'width': 40.156251819999966, 'direction': 'ltr'}\n",
            "{'text': 'including', 'x0': 386.4530258800001, 'x1': 426.2954558000001, 'top': 321.20614439999997, 'doctop': 321.20614439999997, 'bottom': 331.1687444, 'upright': True, 'height': 9.962600000000009, 'width': 39.84242992000003, 'direction': 'ltr'}\n",
            "{'text': 'real-time', 'x0': 429.6229642000001, 'x1': 468.39341836000006, 'top': 321.20614439999997, 'doctop': 321.20614439999997, 'bottom': 331.1687444, 'upright': True, 'height': 9.962600000000009, 'width': 38.77045415999993, 'direction': 'ltr'}\n",
            "{'text': 'data', 'x0': 471.71096416000006, 'x1': 491.08323986000005, 'top': 321.20614439999997, 'doctop': 321.20614439999997, 'bottom': 331.1687444, 'upright': True, 'height': 9.962600000000009, 'width': 19.37227569999999, 'direction': 'ltr'}\n",
            "{'text': 'handling', 'x0': 494.41074826000005, 'x1': 532.0394884600001, 'top': 321.20614439999997, 'doctop': 321.20614439999997, 'bottom': 331.1687444, 'upright': True, 'height': 9.962600000000009, 'width': 37.628740200000095, 'direction': 'ltr'}\n",
            "{'text': 'and', 'x0': 535.3669968600001, 'x1': 551.4187379800001, 'top': 321.20614439999997, 'doctop': 321.20614439999997, 'bottom': 331.1687444, 'upright': True, 'height': 9.962600000000009, 'width': 16.051741119999974, 'direction': 'ltr'}\n",
            "{'text': 'user', 'x0': 554.7362837800001, 'x1': 572.53048364, 'top': 321.20614439999997, 'doctop': 321.20614439999997, 'bottom': 331.1687444, 'upright': True, 'height': 9.962600000000009, 'width': 17.794199859999935, 'direction': 'ltr'}\n",
            "{'text': 'interaction', 'x0': 70.80000000000001, 'x1': 117.59532846, 'top': 333.16114439999996, 'doctop': 333.16114439999996, 'bottom': 343.12374439999996, 'upright': True, 'height': 9.962600000000009, 'width': 46.79532845999999, 'direction': 'ltr'}\n",
            "{'text': 'flows.', 'x0': 120.91287426, 'x1': 145.05225406000002, 'top': 333.16114439999996, 'doctop': 333.16114439999996, 'bottom': 343.12374439999996, 'upright': True, 'height': 9.962600000000009, 'width': 24.13937980000003, 'direction': 'ltr'}\n",
            "{'text': '•', 'x0': 61.52600000000001, 'x1': 65.34508864000001, 'top': 349.2550544, 'doctop': 349.2550544, 'bottom': 355.2326544, 'upright': True, 'height': 5.977599999999995, 'width': 3.819088640000004, 'direction': 'ltr'}\n",
            "{'text': 'Collaborate', 'x0': 70.80000000000001, 'x1': 121.47376864, 'top': 347.10914439999993, 'doctop': 347.10914439999993, 'bottom': 357.07174439999994, 'upright': True, 'height': 9.962600000000009, 'width': 50.67376863999999, 'direction': 'ltr'}\n",
            "{'text': 'with', 'x0': 124.79131444000001, 'x1': 144.16359014, 'top': 347.10914439999993, 'doctop': 347.10914439999993, 'bottom': 357.07174439999994, 'upright': True, 'height': 9.962600000000009, 'width': 19.37227569999999, 'direction': 'ltr'}\n",
            "{'text': 'cross-functional', 'x0': 147.48113594, 'x1': 215.42108664000003, 'top': 347.10914439999993, 'doctop': 347.10914439999993, 'bottom': 357.07174439999994, 'upright': True, 'height': 9.962600000000009, 'width': 67.93995070000003, 'direction': 'ltr'}\n",
            "{'text': 'teams', 'x0': 218.74859504000003, 'x1': 244.26281364000005, 'top': 347.10914439999993, 'doctop': 347.10914439999993, 'bottom': 357.07174439999994, 'upright': True, 'height': 9.962600000000009, 'width': 25.51421860000002, 'direction': 'ltr'}\n",
            "{'text': 'to', 'x0': 247.58035944000005, 'x1': 256.43611458000004, 'top': 347.10914439999993, 'doctop': 347.10914439999993, 'bottom': 357.07174439999994, 'upright': True, 'height': 9.962600000000009, 'width': 8.855755139999985, 'direction': 'ltr'}\n",
            "{'text': 'optimize', 'x0': 259.75366038000004, 'x1': 296.8364501000001, 'top': 347.10914439999993, 'doctop': 347.10914439999993, 'bottom': 357.07174439999994, 'upright': True, 'height': 9.962600000000009, 'width': 37.08278972000005, 'direction': 'ltr'}\n",
            "{'text': 'state', 'x0': 300.16395850000015, 'x1': 321.2507976600001, 'top': 347.10914439999993, 'doctop': 347.10914439999993, 'bottom': 357.07174439999994, 'upright': True, 'height': 9.962600000000009, 'width': 21.086839159999954, 'direction': 'ltr'}\n",
            "{'text': 'management', 'x0': 324.56834346000016, 'x1': 379.6465775600001, 'top': 347.10914439999993, 'doctop': 347.10914439999993, 'bottom': 357.07174439999994, 'upright': True, 'height': 9.962600000000009, 'width': 55.07823409999992, 'direction': 'ltr'}\n",
            "{'text': 'using', 'x0': 382.9641233600001, 'x1': 405.7127242000001, 'top': 347.10914439999993, 'doctop': 347.10914439999993, 'bottom': 357.07174439999994, 'upright': True, 'height': 9.962600000000009, 'width': 22.748600839999995, 'direction': 'ltr'}\n",
            "{'text': 'Bloc,', 'x0': 409.0302700000001, 'x1': 431.30963238000004, 'top': 347.10914439999993, 'doctop': 347.10914439999993, 'bottom': 357.07174439999994, 'upright': True, 'height': 9.962600000000009, 'width': 22.279362379999952, 'direction': 'ltr'}\n",
            "{'text': 'improving', 'x0': 434.62717818000004, 'x1': 478.37893234, 'top': 347.10914439999993, 'doctop': 347.10914439999993, 'bottom': 357.07174439999994, 'upright': True, 'height': 9.962600000000009, 'width': 43.75175415999996, 'direction': 'ltr'}\n",
            "{'text': 'code', 'x0': 481.70644074, 'x1': 501.35667298, 'top': 347.10914439999993, 'doctop': 347.10914439999993, 'bottom': 357.07174439999994, 'upright': True, 'height': 9.962600000000009, 'width': 19.65023223999998, 'direction': 'ltr'}\n",
            "{'text': 'maintainability', 'x0': 504.67421878, 'x1': 570.8129313999999, 'top': 347.10914439999993, 'doctop': 347.10914439999993, 'bottom': 357.07174439999994, 'upright': True, 'height': 9.962600000000009, 'width': 66.13871261999992, 'direction': 'ltr'}\n",
            "{'text': 'and', 'x0': 70.80000000000001, 'x1': 86.85174112000001, 'top': 359.0641443999999, 'doctop': 359.0641443999999, 'bottom': 369.0267443999999, 'upright': True, 'height': 9.962600000000009, 'width': 16.051741120000003, 'direction': 'ltr'}\n",
            "{'text': 'development', 'x0': 90.16928692000002, 'x1': 144.6926042, 'top': 359.0641443999999, 'doctop': 359.0641443999999, 'bottom': 369.0267443999999, 'upright': True, 'height': 9.962600000000009, 'width': 54.523317279999986, 'direction': 'ltr'}\n",
            "{'text': 'efficiency', 'x0': 148.01015, 'x1': 187.58259346, 'top': 359.0641443999999, 'doctop': 359.0641443999999, 'bottom': 369.0267443999999, 'upright': True, 'height': 9.962600000000009, 'width': 39.57244345999999, 'direction': 'ltr'}\n",
            "{'text': 'by', 'x0': 190.90013926, 'x1': 201.42462989999999, 'top': 359.0641443999999, 'doctop': 359.0641443999999, 'bottom': 369.0267443999999, 'upright': True, 'height': 9.962600000000009, 'width': 10.524490639999982, 'direction': 'ltr'}\n",
            "{'text': '30', 'x0': 204.7421757, 'x1': 214.7047757, 'top': 359.0641443999999, 'doctop': 359.0641443999999, 'bottom': 369.0267443999999, 'upright': True, 'height': 9.962600000000009, 'width': 9.962600000000009, 'direction': 'ltr'}\n",
            "{'text': 'percent.', 'x0': 218.0223215, 'x1': 252.91931678000006, 'top': 359.0641443999999, 'doctop': 359.0641443999999, 'bottom': 369.0267443999999, 'upright': True, 'height': 9.962600000000009, 'width': 34.896995280000056, 'direction': 'ltr'}\n",
            "{'text': '•', 'x0': 61.52600000000001, 'x1': 65.34508864000001, 'top': 375.15805439999997, 'doctop': 375.15805439999997, 'bottom': 381.13565439999996, 'upright': True, 'height': 5.977599999999995, 'width': 3.819088640000004, 'direction': 'ltr'}\n",
            "{'text': 'Achieveda50percentimprovementinUIperformance,', 'x0': 70.80000000000001, 'x1': 310.32879928000006, 'top': 373.0121443999999, 'doctop': 373.0121443999999, 'bottom': 382.9747443999999, 'upright': True, 'height': 9.962600000000009, 'width': 239.52879928000004, 'direction': 'ltr'}\n",
            "{'text': 'resultinginfasterloadtimeandenhanceduserexperience.', 'x0': 313.3673922800001, 'x1': 567.3798194399998, 'top': 373.0121443999999, 'doctop': 373.0121443999999, 'bottom': 382.9747443999999, 'upright': True, 'height': 9.962600000000009, 'width': 254.01242715999967, 'direction': 'ltr'}\n",
            "{'text': '•', 'x0': 61.52600000000001, 'x1': 65.34508864000001, 'top': 389.10605439999995, 'doctop': 389.10605439999995, 'bottom': 395.08365439999994, 'upright': True, 'height': 5.977599999999995, 'width': 3.819088640000004, 'direction': 'ltr'}\n",
            "{'text': 'Increase', 'x0': 70.80000000000001, 'x1': 106.02775360000001, 'top': 386.9591443999999, 'doctop': 386.9591443999999, 'bottom': 396.9217443999999, 'upright': True, 'height': 9.962600000000009, 'width': 35.2277536, 'direction': 'ltr'}\n",
            "{'text': 'code', 'x0': 109.34529940000002, 'x1': 128.99553164000002, 'top': 386.9591443999999, 'doctop': 386.9591443999999, 'bottom': 396.9217443999999, 'upright': True, 'height': 9.962600000000009, 'width': 19.65023224000001, 'direction': 'ltr'}\n",
            "{'text': 're-usability', 'x0': 132.32304004000002, 'x1': 181.11088850000002, 'top': 386.9591443999999, 'doctop': 386.9591443999999, 'bottom': 396.9217443999999, 'upright': True, 'height': 9.962600000000009, 'width': 48.78784845999999, 'direction': 'ltr'}\n",
            "{'text': 'by', 'x0': 184.42843430000002, 'x1': 194.94296234, 'top': 386.9591443999999, 'doctop': 386.9591443999999, 'bottom': 396.9217443999999, 'upright': True, 'height': 9.962600000000009, 'width': 10.514528039999988, 'direction': 'ltr'}\n",
            "{'text': '30', 'x0': 198.27047074, 'x1': 208.23307074000002, 'top': 386.9591443999999, 'doctop': 386.9591443999999, 'bottom': 396.9217443999999, 'upright': True, 'height': 9.962600000000009, 'width': 9.962600000000009, 'direction': 'ltr'}\n",
            "{'text': 'percent', 'x0': 211.55061654000002, 'x1': 243.68000154000006, 'top': 386.9591443999999, 'doctop': 386.9591443999999, 'bottom': 396.9217443999999, 'upright': True, 'height': 9.962600000000009, 'width': 32.12938500000004, 'direction': 'ltr'}\n",
            "{'text': 'and', 'x0': 246.99754734000007, 'x1': 263.0492884600001, 'top': 386.9591443999999, 'doctop': 386.9591443999999, 'bottom': 396.9217443999999, 'upright': True, 'height': 9.962600000000009, 'width': 16.05174112000006, 'direction': 'ltr'}\n",
            "{'text': 'development', 'x0': 266.37679686000007, 'x1': 320.8901515400001, 'top': 386.9591443999999, 'doctop': 386.9591443999999, 'bottom': 396.9217443999999, 'upright': True, 'height': 9.962600000000009, 'width': 54.51335468000002, 'direction': 'ltr'}\n",
            "{'text': 'speed', 'x0': 324.2076973400001, 'x1': 348.3410995800001, 'top': 386.9591443999999, 'doctop': 386.9591443999999, 'bottom': 396.9217443999999, 'upright': True, 'height': 9.962600000000009, 'width': 24.13340224000001, 'direction': 'ltr'}\n",
            "{'text': 'by', 'x0': 351.6586453800001, 'x1': 362.1831360200001, 'top': 386.9591443999999, 'doctop': 386.9591443999999, 'bottom': 396.9217443999999, 'upright': True, 'height': 9.962600000000009, 'width': 10.52449064000001, 'direction': 'ltr'}\n",
            "{'text': '20', 'x0': 365.5006818200001, 'x1': 375.4632818200001, 'top': 386.9591443999999, 'doctop': 386.9591443999999, 'bottom': 396.9217443999999, 'upright': True, 'height': 9.962600000000009, 'width': 9.962599999999952, 'direction': 'ltr'}\n",
            "{'text': 'percent,', 'x0': 378.7808276200001, 'x1': 413.6778229000001, 'top': 386.9591443999999, 'doctop': 386.9591443999999, 'bottom': 396.9217443999999, 'upright': True, 'height': 9.962600000000009, 'width': 34.89699528, 'direction': 'ltr'}\n",
            "{'text': 'streamlining', 'x0': 417.0053313000001, 'x1': 470.77647228, 'top': 386.9591443999999, 'doctop': 386.9591443999999, 'bottom': 396.9217443999999, 'upright': True, 'height': 9.962600000000009, 'width': 53.77114097999993, 'direction': 'ltr'}\n",
            "{'text': 'the', 'x0': 474.09401808, 'x1': 487.93107322000003, 'top': 386.9591443999999, 'doctop': 386.9591443999999, 'bottom': 396.9217443999999, 'upright': True, 'height': 9.962600000000009, 'width': 13.837055140000018, 'direction': 'ltr'}\n",
            "{'text': 'workflow', 'x0': 491.24861902000004, 'x1': 529.7490867199999, 'top': 386.9591443999999, 'doctop': 386.9591443999999, 'bottom': 396.9217443999999, 'upright': True, 'height': 9.962600000000009, 'width': 38.50046769999989, 'direction': 'ltr'}\n",
            "{'text': 'and', 'x0': 533.06663252, 'x1': 549.1183736400001, 'top': 386.9591443999999, 'doctop': 386.9591443999999, 'bottom': 396.9217443999999, 'upright': True, 'height': 9.962600000000009, 'width': 16.051741120000088, 'direction': 'ltr'}\n",
            "{'text': 'reducing', 'x0': 70.80000000000001, 'x1': 107.91168126000002, 'top': 398.9151443999999, 'doctop': 398.9151443999999, 'bottom': 408.8777443999999, 'upright': True, 'height': 9.962600000000009, 'width': 37.11168126000001, 'direction': 'ltr'}\n",
            "{'text': 'overall', 'x0': 111.22922706, 'x1': 139.76709476000002, 'top': 398.9151443999999, 'doctop': 398.9151443999999, 'bottom': 408.8777443999999, 'upright': True, 'height': 9.962600000000009, 'width': 28.53786770000002, 'direction': 'ltr'}\n",
            "{'text': 'development', 'x0': 143.08464056000003, 'x1': 197.59799524000002, 'top': 398.9151443999999, 'doctop': 398.9151443999999, 'bottom': 408.8777443999999, 'upright': True, 'height': 9.962600000000009, 'width': 54.51335467999999, 'direction': 'ltr'}\n",
            "{'text': 'time.', 'x0': 200.92550364000002, 'x1': 223.06439336000005, 'top': 398.9151443999999, 'doctop': 398.9151443999999, 'bottom': 408.8777443999999, 'upright': True, 'height': 9.962600000000009, 'width': 22.138889720000037, 'direction': 'ltr'}\n",
            "{'text': 'Projects', 'x0': 36.000000000000014, 'x1': 90.75122944000002, 'top': 418.90079999999995, 'doctop': 418.90079999999995, 'bottom': 430.85599999999994, 'upright': True, 'height': 11.95519999999999, 'width': 54.75122944, 'direction': 'ltr'}\n",
            "{'text': 'JusticeGPT', 'x0': 46.8, 'x1': 106.3962732, 'top': 442.7151444, 'doctop': 442.7151444, 'bottom': 452.6777444, 'upright': True, 'height': 9.962600000000009, 'width': 59.5962732, 'direction': 'ltr'}\n",
            "{'text': '|', 'x0': 109.717, 'x1': 112.48461028, 'top': 442.7151444, 'doctop': 442.7151444, 'bottom': 452.6777444, 'upright': True, 'height': 9.962600000000009, 'width': 2.7676102799999995, 'direction': 'ltr'}\n",
            "{'text': 'HTML,', 'x0': 115.806, 'x1': 148.5779727, 'top': 442.7151444, 'doctop': 442.7151444, 'bottom': 452.6777444, 'upright': True, 'height': 9.962600000000009, 'width': 32.771972700000006, 'direction': 'ltr'}\n",
            "{'text': 'CSS,', 'x0': 152.1445835, 'x1': 173.53129692, 'top': 442.7151444, 'doctop': 442.7151444, 'bottom': 452.6777444, 'upright': True, 'height': 9.962600000000009, 'width': 21.386713419999978, 'direction': 'ltr'}\n",
            "{'text': 'JavaScript,', 'x0': 177.08794512, 'x1': 225.9823934, 'top': 442.7151444, 'doctop': 442.7151444, 'bottom': 452.6777444, 'upright': True, 'height': 9.962600000000009, 'width': 48.894448280000006, 'direction': 'ltr'}\n",
            "{'text': 'OpenAI', 'x0': 229.5490042, 'x1': 263.20167074000005, 'top': 442.7151444, 'doctop': 442.7151444, 'bottom': 452.6777444, 'upright': True, 'height': 9.962600000000009, 'width': 33.65266654000004, 'direction': 'ltr'}\n",
            "{'text': 'API,', 'x0': 266.76828154000003, 'x1': 287.82822168000007, 'top': 442.7151444, 'doctop': 442.7151444, 'bottom': 452.6777444, 'upright': True, 'height': 9.962600000000009, 'width': 21.059940140000037, 'direction': 'ltr'}\n",
            "{'text': 'Text-to-Speech,', 'x0': 291.39483248000005, 'x1': 356.86605090000006, 'top': 442.7151444, 'doctop': 442.7151444, 'bottom': 452.6777444, 'upright': True, 'height': 9.962600000000009, 'width': 65.47121842000001, 'direction': 'ltr'}\n",
            "{'text': 'Speech-to-Text,', 'x0': 360.42269910000005, 'x1': 425.8939175199999, 'top': 442.7151444, 'doctop': 442.7151444, 'bottom': 452.6777444, 'upright': True, 'height': 9.962600000000009, 'width': 65.47121841999984, 'direction': 'ltr'}\n",
            "{'text': 'js-PDF', 'x0': 429.46052831999987, 'x1': 460.9373630199999, 'top': 442.7151444, 'doctop': 442.7151444, 'bottom': 452.6777444, 'upright': True, 'height': 9.962600000000009, 'width': 31.47683470000004, 'direction': 'ltr'}\n",
            "{'text': '•', 'x0': 61.525999999999996, 'x1': 65.34508864, 'top': 458.59005440000004, 'doctop': 458.59005440000004, 'bottom': 464.56765440000004, 'upright': True, 'height': 5.977599999999995, 'width': 3.819088640000004, 'direction': 'ltr'}\n",
            "{'text': 'Developed', 'x0': 70.8, 'x1': 115.77018014, 'top': 456.6801444, 'doctop': 456.6801444, 'bottom': 466.6427444, 'upright': True, 'height': 9.962600000000009, 'width': 44.97018014, 'direction': 'ltr'}\n",
            "{'text': 'an', 'x0': 119.08772593999998, 'x1': 129.6042465, 'top': 456.6801444, 'doctop': 456.6801444, 'bottom': 466.6427444, 'upright': True, 'height': 9.962600000000009, 'width': 10.516520560000004, 'direction': 'ltr'}\n",
            "{'text': 'AI-based', 'x0': 132.9317549, 'x1': 171.73010434, 'top': 456.6801444, 'doctop': 456.6801444, 'bottom': 466.6427444, 'upright': True, 'height': 9.962600000000009, 'width': 38.79834944000001, 'direction': 'ltr'}\n",
            "{'text': 'full-stack', 'x0': 175.04765014, 'x1': 214.6748879, 'top': 456.6801444, 'doctop': 456.6801444, 'bottom': 466.6427444, 'upright': True, 'height': 9.962600000000009, 'width': 39.627237759999986, 'direction': 'ltr'}\n",
            "{'text': 'web', 'x0': 218.0023963, 'x1': 234.88103321999998, 'top': 456.6801444, 'doctop': 456.6801444, 'bottom': 466.6427444, 'upright': True, 'height': 9.962600000000009, 'width': 16.87863691999999, 'direction': 'ltr'}\n",
            "{'text': 'application', 'x0': 238.19857902, 'x1': 286.3528061200001, 'top': 456.6801444, 'doctop': 456.6801444, 'bottom': 466.6427444, 'upright': True, 'height': 9.962600000000009, 'width': 48.15422710000007, 'direction': 'ltr'}\n",
            "{'text': 'to', 'x0': 289.6703519200001, 'x1': 298.5261070600001, 'top': 456.6801444, 'doctop': 456.6801444, 'bottom': 466.6427444, 'upright': True, 'height': 9.962600000000009, 'width': 8.855755139999985, 'direction': 'ltr'}\n",
            "{'text': 'solve', 'x0': 301.85361546000007, 'x1': 322.9384621000001, 'top': 456.6801444, 'doctop': 456.6801444, 'bottom': 466.6427444, 'upright': True, 'height': 9.962600000000009, 'width': 21.084846640000023, 'direction': 'ltr'}\n",
            "{'text': 'legal', 'x0': 326.2560079000001, 'x1': 346.18120790000006, 'top': 456.6801444, 'doctop': 456.6801444, 'bottom': 466.6427444, 'upright': True, 'height': 9.962600000000009, 'width': 19.92519999999996, 'direction': 'ltr'}\n",
            "{'text': 'queries', 'x0': 349.50871630000006, 'x1': 379.75616616, 'top': 456.6801444, 'doctop': 456.6801444, 'bottom': 466.6427444, 'upright': True, 'height': 9.962600000000009, 'width': 30.24744985999996, 'direction': 'ltr'}\n",
            "{'text': 'of', 'x0': 383.07371196, 'x1': 391.09958252, 'top': 456.6801444, 'doctop': 456.6801444, 'bottom': 466.6427444, 'upright': True, 'height': 9.962600000000009, 'width': 8.025870559999987, 'direction': 'ltr'}\n",
            "{'text': 'users', 'x0': 394.41712832, 'x1': 416.14057762, 'top': 456.6801444, 'doctop': 456.6801444, 'bottom': 466.6427444, 'upright': True, 'height': 9.962600000000009, 'width': 21.72344929999997, 'direction': 'ltr'}\n",
            "{'text': 'based', 'x0': 419.46808602, 'x1': 443.87645602, 'top': 456.6801444, 'doctop': 456.6801444, 'bottom': 466.6427444, 'upright': True, 'height': 9.962600000000009, 'width': 24.40836999999999, 'direction': 'ltr'}\n",
            "{'text': 'on', 'x0': 447.19400182, 'x1': 457.71052238, 'top': 456.6801444, 'doctop': 456.6801444, 'bottom': 466.6427444, 'upright': True, 'height': 9.962600000000009, 'width': 10.516520560000004, 'direction': 'ltr'}\n",
            "{'text': 'their', 'x0': 461.02806818, 'x1': 481.53508402, 'top': 456.6801444, 'doctop': 456.6801444, 'bottom': 466.6427444, 'upright': True, 'height': 9.962600000000009, 'width': 20.507015840000008, 'direction': 'ltr'}\n",
            "{'text': 'situational', 'x0': 484.86259242, 'x1': 530.8479614999999, 'top': 456.6801444, 'doctop': 456.6801444, 'bottom': 466.6427444, 'upright': True, 'height': 9.962600000000009, 'width': 45.985369079999884, 'direction': 'ltr'}\n",
            "{'text': 'inputs.', 'x0': 534.1754698999999, 'x1': 564.12005672, 'top': 456.6801444, 'doctop': 456.6801444, 'bottom': 466.6427444, 'upright': True, 'height': 9.962600000000009, 'width': 29.94458682000004, 'direction': 'ltr'}\n",
            "{'text': '•', 'x0': 61.525999999999996, 'x1': 65.34508864, 'top': 472.77405440000007, 'doctop': 472.77405440000007, 'bottom': 478.75165440000006, 'upright': True, 'height': 5.977599999999995, 'width': 3.819088640000004, 'direction': 'ltr'}\n",
            "{'text': 'Integrated', 'x0': 70.8, 'x1': 115.65760276, 'top': 470.6281444, 'doctop': 470.6281444, 'bottom': 480.5907444, 'upright': True, 'height': 9.962600000000009, 'width': 44.857602760000006, 'direction': 'ltr'}\n",
            "{'text': 'GPT-3.5', 'x0': 118.97514856000001, 'x1': 156.82904352, 'top': 470.6281444, 'doctop': 470.6281444, 'bottom': 480.5907444, 'upright': True, 'height': 9.962600000000009, 'width': 37.85389495999999, 'direction': 'ltr'}\n",
            "{'text': 'API,', 'x0': 160.14658932, 'x1': 180.76419002000003, 'top': 470.6281444, 'doctop': 470.6281444, 'bottom': 480.5907444, 'upright': True, 'height': 9.962600000000009, 'width': 20.617600700000025, 'direction': 'ltr'}\n",
            "{'text': 'Web', 'x0': 184.08173582, 'x1': 203.45700030000003, 'top': 470.6281444, 'doctop': 470.6281444, 'bottom': 480.5907444, 'upright': True, 'height': 9.962600000000009, 'width': 19.375264480000027, 'direction': 'ltr'}\n",
            "{'text': 'Speech', 'x0': 206.7745461, 'x1': 236.66234610000006, 'top': 470.6281444, 'doctop': 470.6281444, 'bottom': 480.5907444, 'upright': True, 'height': 9.962600000000009, 'width': 29.887800000000055, 'direction': 'ltr'}\n",
            "{'text': 'API', 'x0': 239.97989190000004, 'x1': 257.82988232, 'top': 470.6281444, 'doctop': 470.6281444, 'bottom': 480.5907444, 'upright': True, 'height': 9.962600000000009, 'width': 17.849990419999983, 'direction': 'ltr'}\n",
            "{'text': '(TTS/STT),', 'x0': 261.1573907200001, 'x1': 316.50561128000004, 'top': 470.6281444, 'doctop': 470.6281444, 'bottom': 480.5907444, 'upright': True, 'height': 9.962600000000009, 'width': 55.34822055999996, 'direction': 'ltr'}\n",
            "{'text': 'and', 'x0': 319.8231570800001, 'x1': 335.87489820000013, 'top': 470.6281444, 'doctop': 470.6281444, 'bottom': 480.5907444, 'upright': True, 'height': 9.962600000000009, 'width': 16.05174112000003, 'direction': 'ltr'}\n",
            "{'text': 'jsPDF', 'x0': 339.19244400000014, 'x1': 367.0608249800001, 'top': 470.6281444, 'doctop': 470.6281444, 'bottom': 480.5907444, 'upright': True, 'height': 9.962600000000009, 'width': 27.868380979999984, 'direction': 'ltr'}\n",
            "{'text': 'for', 'x0': 370.3883333800001, 'x1': 382.3165543600001, 'top': 470.6281444, 'doctop': 470.6281444, 'bottom': 480.5907444, 'upright': True, 'height': 9.962600000000009, 'width': 11.928220979999992, 'direction': 'ltr'}\n",
            "{'text': 'enhanced', 'x0': 385.6341001600001, 'x1': 426.03842072000015, 'top': 470.6281444, 'doctop': 470.6281444, 'bottom': 480.5907444, 'upright': True, 'height': 9.962600000000009, 'width': 40.40432056000003, 'direction': 'ltr'}\n",
            "{'text': 'interactivity', 'x0': 429.35596652000015, 'x1': 482.5243702000001, 'top': 470.6281444, 'doctop': 470.6281444, 'bottom': 480.5907444, 'upright': True, 'height': 9.962600000000009, 'width': 53.168403679999926, 'direction': 'ltr'}\n",
            "{'text': 'and', 'x0': 485.8419160000001, 'x1': 501.8936571200001, 'top': 470.6281444, 'doctop': 470.6281444, 'bottom': 480.5907444, 'upright': True, 'height': 9.962600000000009, 'width': 16.05174112000003, 'direction': 'ltr'}\n",
            "{'text': 'output.', 'x0': 505.2112029200001, 'x1': 537.3146851600002, 'top': 470.6281444, 'doctop': 470.6281444, 'bottom': 480.5907444, 'upright': True, 'height': 9.962600000000009, 'width': 32.10348224000006, 'direction': 'ltr'}\n",
            "{'text': '•', 'x0': 61.525999999999996, 'x1': 65.34508864, 'top': 486.72205440000005, 'doctop': 486.72205440000005, 'bottom': 492.69965440000004, 'upright': True, 'height': 5.977599999999995, 'width': 3.819088640000004, 'direction': 'ltr'}\n",
            "{'text': 'Contributed', 'x0': 70.8, 'x1': 123.68446958, 'top': 484.5751444, 'doctop': 484.5751444, 'bottom': 494.5377444, 'upright': True, 'height': 9.962600000000009, 'width': 52.88446958, 'direction': 'ltr'}\n",
            "{'text': 'to', 'x0': 127.00201537999999, 'x1': 135.85777052, 'top': 484.5751444, 'doctop': 484.5751444, 'bottom': 494.5377444, 'upright': True, 'height': 9.962600000000009, 'width': 8.855755140000014, 'direction': 'ltr'}\n",
            "{'text': 'front-end', 'x0': 139.18527892, 'x1': 179.06257794, 'top': 484.5751444, 'doctop': 484.5751444, 'bottom': 494.5377444, 'upright': True, 'height': 9.962600000000009, 'width': 39.87729902000001, 'direction': 'ltr'}\n",
            "{'text': 'design,', 'x0': 182.38012374, 'x1': 212.32371430000003, 'top': 484.5751444, 'doctop': 484.5751444, 'bottom': 494.5377444, 'upright': True, 'height': 9.962600000000009, 'width': 29.943590560000047, 'direction': 'ltr'}\n",
            "{'text': 'modeling', 'x0': 215.6412601, 'x1': 255.21768860000006, 'top': 484.5751444, 'doctop': 484.5751444, 'bottom': 494.5377444, 'upright': True, 'height': 9.962600000000009, 'width': 39.57642850000005, 'direction': 'ltr'}\n",
            "{'text': 'the', 'x0': 258.5451970000001, 'x1': 272.37228954000005, 'top': 484.5751444, 'doctop': 484.5751444, 'bottom': 494.5377444, 'upright': True, 'height': 9.962600000000009, 'width': 13.827092539999967, 'direction': 'ltr'}\n",
            "{'text': 'UI', 'x0': 275.6997979400001, 'x1': 286.7692428000001, 'top': 484.5751444, 'doctop': 484.5751444, 'bottom': 494.5377444, 'upright': True, 'height': 9.962600000000009, 'width': 11.069444859999976, 'direction': 'ltr'}\n",
            "{'text': 'for', 'x0': 290.0867886000001, 'x1': 302.01500958000014, 'top': 484.5751444, 'doctop': 484.5751444, 'bottom': 494.5377444, 'upright': True, 'height': 9.962600000000009, 'width': 11.928220980000049, 'direction': 'ltr'}\n",
            "{'text': 'a', 'x0': 305.33255538000014, 'x1': 310.3138553800001, 'top': 484.5751444, 'doctop': 484.5751444, 'bottom': 494.5377444, 'upright': True, 'height': 9.962600000000009, 'width': 4.981299999999976, 'direction': 'ltr'}\n",
            "{'text': 'smooth', 'x0': 313.6413637800001, 'x1': 345.52367630000015, 'top': 484.5751444, 'doctop': 484.5751444, 'bottom': 494.5377444, 'upright': True, 'height': 9.962600000000009, 'width': 31.882312520000028, 'direction': 'ltr'}\n",
            "{'text': 'and', 'x0': 348.84122210000015, 'x1': 364.8929632200002, 'top': 484.5751444, 'doctop': 484.5751444, 'bottom': 494.5377444, 'upright': True, 'height': 9.962600000000009, 'width': 16.05174112000003, 'direction': 'ltr'}\n",
            "{'text': 'user-friendly', 'x0': 368.2105090200002, 'x1': 422.5634658400002, 'top': 484.5751444, 'doctop': 484.5751444, 'bottom': 494.5377444, 'upright': True, 'height': 9.962600000000009, 'width': 54.35295682000003, 'direction': 'ltr'}\n",
            "{'text': 'experience.', 'x0': 425.8810116400002, 'x1': 474.0631340200002, 'top': 484.5751444, 'doctop': 484.5751444, 'bottom': 494.5377444, 'upright': True, 'height': 9.962600000000009, 'width': 48.18212237999995, 'direction': 'ltr'}\n",
            "{'text': 'Tricket', 'x0': 46.8, 'x1': 81.92115378, 'top': 504.5831444, 'doctop': 504.5831444, 'bottom': 514.5457444, 'upright': True, 'height': 9.962600000000009, 'width': 35.12115378, 'direction': 'ltr'}\n",
            "{'text': 'App', 'x0': 85.74679218, 'x1': 107.13848689999999, 'top': 504.5831444, 'doctop': 504.5831444, 'bottom': 514.5457444, 'upright': True, 'height': 9.962600000000009, 'width': 21.39169471999999, 'direction': 'ltr'}\n",
            "{'text': '|', 'x0': 114.27499999999999, 'x1': 117.04261027999999, 'top': 504.5831444, 'doctop': 504.5831444, 'bottom': 514.5457444, 'upright': True, 'height': 9.962600000000009, 'width': 2.7676102799999995, 'direction': 'ltr'}\n",
            "{'text': 'Flutter,', 'x0': 120.36399999999999, 'x1': 153.21965853999998, 'top': 504.5831444, 'doctop': 504.5831444, 'bottom': 514.5457444, 'upright': True, 'height': 9.962600000000009, 'width': 32.85565853999999, 'direction': 'ltr'}\n",
            "{'text': 'Dart,', 'x0': 156.78626934, 'x1': 179.96625075999998, 'top': 504.5831444, 'doctop': 504.5831444, 'bottom': 514.5457444, 'upright': True, 'height': 9.962600000000009, 'width': 23.17998141999999, 'direction': 'ltr'}\n",
            "{'text': 'BLoC', 'x0': 183.52289896, 'x1': 208.49714464000002, 'top': 504.5831444, 'doctop': 504.5831444, 'bottom': 514.5457444, 'upright': True, 'height': 9.962600000000009, 'width': 24.974245680000024, 'direction': 'ltr'}\n",
            "{'text': ',', 'x0': 212.06375544, 'x1': 215.11928486, 'top': 504.5831444, 'doctop': 504.5831444, 'bottom': 514.5457444, 'upright': True, 'height': 9.962600000000009, 'width': 3.055529419999999, 'direction': 'ltr'}\n",
            "{'text': 'Firebase,', 'x0': 218.68589566, 'x1': 257.38960040000006, 'top': 504.5831444, 'doctop': 504.5831444, 'bottom': 514.5457444, 'upright': True, 'height': 9.962600000000009, 'width': 38.70370474000006, 'direction': 'ltr'}\n",
            "{'text': 'REST', 'x0': 260.95621120000004, 'x1': 287.7107735, 'top': 504.5831444, 'doctop': 504.5831444, 'bottom': 514.5457444, 'upright': True, 'height': 9.962600000000009, 'width': 26.754562299999975, 'direction': 'ltr'}\n",
            "{'text': 'APIs,', 'x0': 291.27738430000005, 'x1': 316.4110315800001, 'top': 504.5831444, 'doctop': 504.5831444, 'bottom': 514.5457444, 'upright': True, 'height': 9.962600000000009, 'width': 25.133647280000048, 'direction': 'ltr'}\n",
            "{'text': 'Git,', 'x0': 319.9776423800001, 'x1': 337.1053443000001, 'top': 504.5831444, 'doctop': 504.5831444, 'bottom': 514.5457444, 'upright': True, 'height': 9.962600000000009, 'width': 17.12770192000005, 'direction': 'ltr'}\n",
            "{'text': 'Figma', 'x0': 340.6619925000001, 'x1': 368.0432023400001, 'top': 504.5831444, 'doctop': 504.5831444, 'bottom': 514.5457444, 'upright': True, 'height': 9.962600000000009, 'width': 27.381209839999997, 'direction': 'ltr'}\n",
            "{'text': '•', 'x0': 61.52599999999999, 'x1': 65.34508863999999, 'top': 520.4580544, 'doctop': 520.4580544, 'bottom': 526.4356544, 'upright': True, 'height': 5.9775999999999385, 'width': 3.819088639999997, 'direction': 'ltr'}\n",
            "{'text': 'Built', 'x0': 70.79999999999998, 'x1': 92.80140583999997, 'top': 518.5481444, 'doctop': 518.5481444, 'bottom': 528.5107444, 'upright': True, 'height': 9.962600000000066, 'width': 22.00140583999999, 'direction': 'ltr'}\n",
            "{'text': 'a', 'x0': 96.11895163999998, 'x1': 101.10025163999998, 'top': 518.5481444, 'doctop': 518.5481444, 'bottom': 528.5107444, 'upright': True, 'height': 9.962600000000066, 'width': 4.9813000000000045, 'direction': 'ltr'}\n",
            "{'text': 'fantasy', 'x0': 104.42776003999998, 'x1': 135.75316321999998, 'top': 518.5481444, 'doctop': 518.5481444, 'bottom': 528.5107444, 'upright': True, 'height': 9.962600000000066, 'width': 31.325403179999995, 'direction': 'ltr'}\n",
            "{'text': 'sports', 'x0': 139.07070901999998, 'x1': 165.50148682, 'top': 518.5481444, 'doctop': 518.5481444, 'bottom': 528.5107444, 'upright': True, 'height': 9.962600000000066, 'width': 26.430777800000016, 'direction': 'ltr'}\n",
            "{'text': 'app', 'x0': 168.81903262, 'x1': 184.87077374, 'top': 518.5481444, 'doctop': 518.5481444, 'bottom': 528.5107444, 'upright': True, 'height': 9.962600000000066, 'width': 16.051741120000003, 'direction': 'ltr'}\n",
            "{'text': 'with', 'x0': 188.18831954, 'x1': 207.56059524, 'top': 518.5481444, 'doctop': 518.5481444, 'bottom': 528.5107444, 'upright': True, 'height': 9.962600000000066, 'width': 19.37227569999999, 'direction': 'ltr'}\n",
            "{'text': 'real-time', 'x0': 210.88810364, 'x1': 249.65855780000007, 'top': 518.5481444, 'doctop': 518.5481444, 'bottom': 528.5107444, 'upright': True, 'height': 9.962600000000066, 'width': 38.77045416000007, 'direction': 'ltr'}\n",
            "{'text': 'team', 'x0': 252.97610360000007, 'x1': 274.5610727600001, 'top': 518.5481444, 'doctop': 518.5481444, 'bottom': 528.5107444, 'upright': True, 'height': 9.962600000000066, 'width': 21.584969160000043, 'direction': 'ltr'}\n",
            "{'text': 'selection,', 'x0': 277.88858116000006, 'x1': 317.7937754600001, 'top': 518.5481444, 'doctop': 518.5481444, 'bottom': 528.5107444, 'upright': True, 'height': 9.962600000000066, 'width': 39.90519430000006, 'direction': 'ltr'}\n",
            "{'text': 'contests,', 'x0': 321.1113212600002, 'x1': 358.57866734000015, 'top': 518.5481444, 'doctop': 518.5481444, 'bottom': 528.5107444, 'upright': True, 'height': 9.962600000000066, 'width': 37.46734607999997, 'direction': 'ltr'}\n",
            "{'text': 'and', 'x0': 361.9061757400001, 'x1': 377.9579168600001, 'top': 518.5481444, 'doctop': 518.5481444, 'bottom': 528.5107444, 'upright': True, 'height': 9.962600000000066, 'width': 16.05174112000003, 'direction': 'ltr'}\n",
            "{'text': 'live', 'x0': 381.27546266000013, 'x1': 396.21737014000007, 'top': 518.5481444, 'doctop': 518.5481444, 'bottom': 528.5107444, 'upright': True, 'height': 9.962600000000066, 'width': 14.94190747999994, 'direction': 'ltr'}\n",
            "{'text': 'score', 'x0': 399.53491594000013, 'x1': 421.21253728, 'top': 518.5481444, 'doctop': 518.5481444, 'bottom': 528.5107444, 'upright': True, 'height': 9.962600000000066, 'width': 21.67762133999986, 'direction': 'ltr'}\n",
            "{'text': 'updates.', 'x0': 424.53008308000005, 'x1': 461.3946918600001, 'top': 518.5481444, 'doctop': 518.5481444, 'bottom': 528.5107444, 'upright': True, 'height': 9.962600000000066, 'width': 36.864608780000026, 'direction': 'ltr'}\n",
            "{'text': '•', 'x0': 61.52599999999998, 'x1': 65.34508863999999, 'top': 534.6420544, 'doctop': 534.6420544, 'bottom': 540.6196544000001, 'upright': True, 'height': 5.977600000000052, 'width': 3.819088640000004, 'direction': 'ltr'}\n",
            "{'text': 'Managed', 'x0': 70.79999999999998, 'x1': 110.37443597999999, 'top': 532.4961444, 'doctop': 532.4961444, 'bottom': 542.4587444, 'upright': True, 'height': 9.962599999999952, 'width': 39.574435980000004, 'direction': 'ltr'}\n",
            "{'text': 'BLoC', 'x0': 113.69198177999999, 'x1': 139.15140608, 'top': 532.4961444, 'doctop': 532.4961444, 'bottom': 542.4587444, 'upright': True, 'height': 9.962599999999952, 'width': 25.459424299999995, 'direction': 'ltr'}\n",
            "{'text': 'architecture', 'x0': 142.47891447999996, 'x1': 194.28244195999997, 'top': 532.4961444, 'doctop': 532.4961444, 'bottom': 542.4587444, 'upright': True, 'height': 9.962599999999952, 'width': 51.803527480000014, 'direction': 'ltr'}\n",
            "{'text': 'and', 'x0': 197.59998775999998, 'x1': 213.65172887999995, 'top': 532.4961444, 'doctop': 532.4961444, 'bottom': 542.4587444, 'upright': True, 'height': 9.962599999999952, 'width': 16.051741119999974, 'direction': 'ltr'}\n",
            "{'text': 'developed', 'x0': 216.96927467999996, 'x1': 259.86424524, 'top': 532.4961444, 'doctop': 532.4961444, 'bottom': 542.4587444, 'upright': True, 'height': 9.962599999999952, 'width': 42.89497056000005, 'direction': 'ltr'}\n",
            "{'text': 'modules', 'x0': 263.19175364, 'x1': 298.9485213, 'top': 532.4961444, 'doctop': 532.4961444, 'bottom': 542.4587444, 'upright': True, 'height': 9.962599999999952, 'width': 35.75676765999998, 'direction': 'ltr'}\n",
            "{'text': 'for', 'x0': 302.26606710000004, 'x1': 314.19428808000004, 'top': 532.4961444, 'doctop': 532.4961444, 'bottom': 542.4587444, 'upright': True, 'height': 9.962599999999952, 'width': 11.928220979999992, 'direction': 'ltr'}\n",
            "{'text': 'team', 'x0': 317.51183388000004, 'x1': 339.09680304000005, 'top': 532.4961444, 'doctop': 532.4961444, 'bottom': 542.4587444, 'upright': True, 'height': 9.962599999999952, 'width': 21.584969160000014, 'direction': 'ltr'}\n",
            "{'text': 'creation,', 'x0': 342.4243114400001, 'x1': 380.08891700000004, 'top': 532.4961444, 'doctop': 532.4961444, 'bottom': 542.4587444, 'upright': True, 'height': 9.962599999999952, 'width': 37.66460555999993, 'direction': 'ltr'}\n",
            "{'text': 'contests,', 'x0': 383.4064628, 'x1': 420.87380887999996, 'top': 532.4961444, 'doctop': 532.4961444, 'bottom': 542.4587444, 'upright': True, 'height': 9.962599999999952, 'width': 37.46734607999997, 'direction': 'ltr'}\n",
            "{'text': 'leaderboard,', 'x0': 424.2013172799999, 'x1': 478.2145494399999, 'top': 532.4961444, 'doctop': 532.4961444, 'bottom': 542.4587444, 'upright': True, 'height': 9.962599999999952, 'width': 54.01323216000003, 'direction': 'ltr'}\n",
            "{'text': 'and', 'x0': 481.54205783999987, 'x1': 497.5937989599999, 'top': 532.4961444, 'doctop': 532.4961444, 'bottom': 542.4587444, 'upright': True, 'height': 9.962599999999952, 'width': 16.05174112000003, 'direction': 'ltr'}\n",
            "{'text': 'wallet.', 'x0': 500.9113447599999, 'x1': 529.4133470999999, 'top': 532.4961444, 'doctop': 532.4961444, 'bottom': 542.4587444, 'upright': True, 'height': 9.962599999999952, 'width': 28.50200233999999, 'direction': 'ltr'}\n",
            "{'text': '•', 'x0': 61.52599999999998, 'x1': 65.34508863999999, 'top': 548.5900544000001, 'doctop': 548.5900544000001, 'bottom': 554.5676544, 'upright': True, 'height': 5.9775999999999385, 'width': 3.819088640000004, 'direction': 'ltr'}\n",
            "{'text': 'Enhanced', 'x0': 70.79999999999998, 'x1': 113.55748667999998, 'top': 546.4431444, 'doctop': 546.4431444, 'bottom': 556.4057444, 'upright': True, 'height': 9.962599999999952, 'width': 42.75748668, 'direction': 'ltr'}\n",
            "{'text': 'performance', 'x0': 116.87503247999999, 'x1': 170.62027070000002, 'top': 546.4431444, 'doctop': 546.4431444, 'bottom': 556.4057444, 'upright': True, 'height': 9.962599999999952, 'width': 53.74523822000003, 'direction': 'ltr'}\n",
            "{'text': 'and', 'x0': 173.9378165, 'x1': 189.98955762, 'top': 546.4431444, 'doctop': 546.4431444, 'bottom': 556.4057444, 'upright': True, 'height': 9.962599999999952, 'width': 16.051741120000003, 'direction': 'ltr'}\n",
            "{'text': 'maintainability', 'x0': 193.31706602, 'x1': 259.45577864000006, 'top': 546.4431444, 'doctop': 546.4431444, 'bottom': 556.4057444, 'upright': True, 'height': 9.962599999999952, 'width': 66.13871262000006, 'direction': 'ltr'}\n",
            "{'text': 'through', 'x0': 262.77332444000007, 'x1': 297.1183916800001, 'top': 546.4431444, 'doctop': 546.4431444, 'bottom': 556.4057444, 'upright': True, 'height': 9.962599999999952, 'width': 34.34506724000005, 'direction': 'ltr'}\n",
            "{'text': 'scalable', 'x0': 300.4359374800001, 'x1': 334.2529869200001, 'top': 546.4431444, 'doctop': 546.4431444, 'bottom': 556.4057444, 'upright': True, 'height': 9.962599999999952, 'width': 33.817049440000005, 'direction': 'ltr'}\n",
            "{'text': 'state', 'x0': 337.58049532000007, 'x1': 358.66733448, 'top': 546.4431444, 'doctop': 546.4431444, 'bottom': 556.4057444, 'upright': True, 'height': 9.962599999999952, 'width': 21.086839159999954, 'direction': 'ltr'}\n",
            "{'text': 'management.', 'x0': 361.9848802800001, 'x1': 419.82076206, 'top': 546.4431444, 'doctop': 546.4431444, 'bottom': 556.4057444, 'upright': True, 'height': 9.962599999999952, 'width': 57.83588177999991, 'direction': 'ltr'}\n",
            "{'text': 'Face', 'x0': 46.79999999999998, 'x1': 68.96479247999999, 'top': 566.4511444000001, 'doctop': 566.4511444000001, 'bottom': 576.4137444, 'upright': True, 'height': 9.962599999999952, 'width': 22.164792480000003, 'direction': 'ltr'}\n",
            "{'text': 'Detection', 'x0': 72.78046827999998, 'x1': 121.35710961999999, 'top': 566.4511444000001, 'doctop': 566.4511444000001, 'bottom': 576.4137444, 'upright': True, 'height': 9.962599999999952, 'width': 48.57664134000001, 'direction': 'ltr'}\n",
            "{'text': 'Web', 'x0': 125.17278541999998, 'x1': 147.67730256, 'top': 566.4511444000001, 'doctop': 566.4511444000001, 'bottom': 576.4137444, 'upright': True, 'height': 9.962599999999952, 'width': 22.504517140000004, 'direction': 'ltr'}\n",
            "{'text': 'App', 'x0': 151.49297836, 'x1': 172.88467307999997, 'top': 566.4511444000001, 'doctop': 566.4511444000001, 'bottom': 576.4137444, 'upright': True, 'height': 9.962599999999952, 'width': 21.391694719999975, 'direction': 'ltr'}\n",
            "{'text': '|', 'x0': 180.028, 'x1': 182.79561028, 'top': 566.4511444000001, 'doctop': 566.4511444000001, 'bottom': 576.4137444, 'upright': True, 'height': 9.962599999999952, 'width': 2.7676102800000137, 'direction': 'ltr'}\n",
            "{'text': 'JavaScript,', 'x0': 186.117, 'x1': 235.01144828, 'top': 566.4511444000001, 'doctop': 566.4511444000001, 'bottom': 576.4137444, 'upright': True, 'height': 9.962599999999952, 'width': 48.894448280000006, 'direction': 'ltr'}\n",
            "{'text': 'HTML,', 'x0': 238.57805908, 'x1': 271.35003178, 'top': 566.4511444000001, 'doctop': 566.4511444000001, 'bottom': 576.4137444, 'upright': True, 'height': 9.962599999999952, 'width': 32.77197269999999, 'direction': 'ltr'}\n",
            "{'text': 'CSS,', 'x0': 274.90667998, 'x1': 296.2933934, 'top': 566.4511444000001, 'doctop': 566.4511444000001, 'bottom': 576.4137444, 'upright': True, 'height': 9.962599999999952, 'width': 21.386713420000035, 'direction': 'ltr'}\n",
            "{'text': 'TensorFlow.js,', 'x0': 299.8600042, 'x1': 363.7740682400001, 'top': 566.4511444000001, 'doctop': 566.4511444000001, 'bottom': 576.4137444, 'upright': True, 'height': 9.962599999999952, 'width': 63.914064040000085, 'direction': 'ltr'}\n",
            "{'text': 'face-api.js', 'x0': 367.34067904000005, 'x1': 411.13427612, 'top': 566.4511444000001, 'doctop': 566.4511444000001, 'bottom': 576.4137444, 'upright': True, 'height': 9.962599999999952, 'width': 43.79359707999993, 'direction': 'ltr'}\n",
            "{'text': '•', 'x0': 61.525999999999996, 'x1': 65.34508864, 'top': 582.3260544000001, 'doctop': 582.3260544000001, 'bottom': 588.3036544, 'upright': True, 'height': 5.9775999999999385, 'width': 3.819088640000004, 'direction': 'ltr'}\n",
            "{'text': 'Implemented', 'x0': 70.8, 'x1': 127.25207664, 'top': 580.4161444000001, 'doctop': 580.4161444000001, 'bottom': 590.3787444000001, 'upright': True, 'height': 9.962599999999952, 'width': 56.45207664, 'direction': 'ltr'}\n",
            "{'text': 'real-time', 'x0': 130.57958503999998, 'x1': 169.3500392, 'top': 580.4161444000001, 'doctop': 580.4161444000001, 'bottom': 590.3787444000001, 'upright': True, 'height': 9.962599999999952, 'width': 38.770454160000014, 'direction': 'ltr'}\n",
            "{'text': 'face', 'x0': 172.667585, 'x1': 189.54821444, 'top': 580.4161444000001, 'doctop': 580.4161444000001, 'bottom': 590.3787444000001, 'upright': True, 'height': 9.962599999999952, 'width': 16.880629440000007, 'direction': 'ltr'}\n",
            "{'text': 'detection', 'x0': 192.86576024, 'x1': 232.71616024000005, 'top': 580.4161444000001, 'doctop': 580.4161444000001, 'bottom': 590.3787444000001, 'upright': True, 'height': 9.962599999999952, 'width': 39.850400000000064, 'direction': 'ltr'}\n",
            "{'text': 'and', 'x0': 236.04366864000008, 'x1': 252.09540976000008, 'top': 580.4161444000001, 'doctop': 580.4161444000001, 'bottom': 590.3787444000001, 'upright': True, 'height': 9.962599999999952, 'width': 16.051741120000003, 'direction': 'ltr'}\n",
            "{'text': 'facial', 'x0': 255.41295556000006, 'x1': 278.3827261200001, 'top': 580.4161444000001, 'doctop': 580.4161444000001, 'bottom': 590.3787444000001, 'upright': True, 'height': 9.962599999999952, 'width': 22.96977056000003, 'direction': 'ltr'}\n",
            "{'text': 'landmark', 'x0': 281.70027192000015, 'x1': 322.96336860000014, 'top': 580.4161444000001, 'doctop': 580.4161444000001, 'bottom': 590.3787444000001, 'upright': True, 'height': 9.962599999999952, 'width': 41.26309667999999, 'direction': 'ltr'}\n",
            "{'text': 'tracking', 'x0': 326.29087700000014, 'x1': 361.7398003200001, 'top': 580.4161444000001, 'doctop': 580.4161444000001, 'bottom': 590.3787444000001, 'upright': True, 'height': 9.962599999999952, 'width': 35.44892331999995, 'direction': 'ltr'}\n",
            "{'text': 'using', 'x0': 365.0573461200001, 'x1': 387.8059469600001, 'top': 580.4161444000001, 'doctop': 580.4161444000001, 'bottom': 590.3787444000001, 'upright': True, 'height': 9.962599999999952, 'width': 22.748600839999995, 'direction': 'ltr'}\n",
            "{'text': 'deep', 'x0': 391.1234927600001, 'x1': 411.0486927600001, 'top': 580.4161444000001, 'doctop': 580.4161444000001, 'bottom': 590.3787444000001, 'upright': True, 'height': 9.962599999999952, 'width': 19.925200000000018, 'direction': 'ltr'}\n",
            "{'text': 'learning', 'x0': 414.3762011600001, 'x1': 449.27419270000007, 'top': 580.4161444000001, 'doctop': 580.4161444000001, 'bottom': 590.3787444000001, 'upright': True, 'height': 9.962599999999952, 'width': 34.897991539999964, 'direction': 'ltr'}\n",
            "{'text': 'models.', 'x0': 452.5917385000001, 'x1': 485.58089588, 'top': 580.4161444000001, 'doctop': 580.4161444000001, 'bottom': 590.3787444000001, 'upright': True, 'height': 9.962599999999952, 'width': 32.98915737999994, 'direction': 'ltr'}\n",
            "{'text': '•', 'x0': 61.525999999999996, 'x1': 65.34508864, 'top': 596.5100544000001, 'doctop': 596.5100544000001, 'bottom': 602.4876544000001, 'upright': True, 'height': 5.977600000000052, 'width': 3.819088640000004, 'direction': 'ltr'}\n",
            "{'text': 'Developed', 'x0': 70.8, 'x1': 115.77018014, 'top': 594.3641444000001, 'doctop': 594.3641444000001, 'bottom': 604.3267444, 'upright': True, 'height': 9.962599999999952, 'width': 44.97018014, 'direction': 'ltr'}\n",
            "{'text': 'expression', 'x0': 119.08772593999998, 'x1': 163.7809458, 'top': 594.3641444000001, 'doctop': 594.3641444000001, 'bottom': 604.3267444, 'upright': True, 'height': 9.962599999999952, 'width': 44.69321986000003, 'direction': 'ltr'}\n",
            "{'text': 'recognition', 'x0': 167.1084542, 'x1': 215.28958032000006, 'top': 594.3641444000001, 'doctop': 594.3641444000001, 'bottom': 604.3267444, 'upright': True, 'height': 9.962599999999952, 'width': 48.181126120000044, 'direction': 'ltr'}\n",
            "{'text': 'system', 'x0': 218.60712612000003, 'x1': 248.32755444000009, 'top': 594.3641444000001, 'doctop': 594.3641444000001, 'bottom': 604.3267444, 'upright': True, 'height': 9.962599999999952, 'width': 29.720428320000053, 'direction': 'ltr'}\n",
            "{'text': 'to', 'x0': 251.6451002400001, 'x1': 260.5008553800001, 'top': 594.3641444000001, 'doctop': 594.3641444000001, 'bottom': 604.3267444, 'upright': True, 'height': 9.962599999999952, 'width': 8.855755139999985, 'direction': 'ltr'}\n",
            "{'text': 'classify', 'x0': 263.8283637800001, 'x1': 294.93359350000014, 'top': 594.3641444000001, 'doctop': 594.3641444000001, 'bottom': 604.3267444, 'upright': True, 'height': 9.962599999999952, 'width': 31.105229720000068, 'direction': 'ltr'}\n",
            "{'text': 'emotions', 'x0': 298.25113930000015, 'x1': 337.0494887400002, 'top': 594.3641444000001, 'doctop': 594.3641444000001, 'bottom': 604.3267444, 'upright': True, 'height': 9.962599999999952, 'width': 38.79834944000004, 'direction': 'ltr'}\n",
            "{'text': 'like', 'x0': 340.3769971400002, 'x1': 355.3189046200001, 'top': 594.3641444000001, 'doctop': 594.3641444000001, 'bottom': 604.3267444, 'upright': True, 'height': 9.962599999999952, 'width': 14.94190747999994, 'direction': 'ltr'}\n",
            "{'text': 'happy,', 'x0': 358.63645042000013, 'x1': 387.1434340600002, 'top': 594.3641444000001, 'doctop': 594.3641444000001, 'bottom': 604.3267444, 'upright': True, 'height': 9.962599999999952, 'width': 28.506983640000044, 'direction': 'ltr'}\n",
            "{'text': 'sad,', 'x0': 390.4609798600002, 'x1': 407.67436014000015, 'top': 594.3641444000001, 'doctop': 594.3641444000001, 'bottom': 604.3267444, 'upright': True, 'height': 9.962599999999952, 'width': 17.213380279999967, 'direction': 'ltr'}\n",
            "{'text': 'and', 'x0': 410.99190594000015, 'x1': 427.0436470600002, 'top': 594.3641444000001, 'doctop': 594.3641444000001, 'bottom': 604.3267444, 'upright': True, 'height': 9.962599999999952, 'width': 16.05174112000003, 'direction': 'ltr'}\n",
            "{'text': 'neutral.', 'x0': 430.3711554600002, 'x1': 464.1623021400002, 'top': 594.3641444000001, 'doctop': 594.3641444000001, 'bottom': 604.3267444, 'upright': True, 'height': 9.962599999999952, 'width': 33.79114668, 'direction': 'ltr'}\n",
            "{'text': 'Certifications', 'x0': 36.0, 'x1': 123.85398272, 'top': 614.3498000000001, 'doctop': 614.3498000000001, 'bottom': 626.3050000000001, 'upright': True, 'height': 11.95519999999999, 'width': 87.85398272, 'direction': 'ltr'}\n",
            "{'text': 'Google', 'x0': 46.8, 'x1': 81.74581202, 'top': 635.5981444, 'doctop': 635.5981444, 'bottom': 645.5607444, 'upright': True, 'height': 9.962599999999952, 'width': 34.945812020000005, 'direction': 'ltr'}\n",
            "{'text': 'Android', 'x0': 85.56148782, 'x1': 126.94712447999999, 'top': 635.5981444, 'doctop': 635.5981444, 'bottom': 645.5607444, 'upright': True, 'height': 9.962599999999952, 'width': 41.38563665999999, 'direction': 'ltr'}\n",
            "{'text': 'Developer', 'x0': 130.77276288, 'x1': 181.35288308, 'top': 635.5981444, 'doctop': 635.5981444, 'bottom': 645.5607444, 'upright': True, 'height': 9.962599999999952, 'width': 50.58012020000001, 'direction': 'ltr'}\n",
            "{'text': 'Blue', 'x0': 46.8, 'x1': 69.7488491, 'top': 647.5531444000001, 'doctop': 647.5531444000001, 'bottom': 657.5157444, 'upright': True, 'height': 9.962599999999952, 'width': 22.948849100000004, 'direction': 'ltr'}\n",
            "{'text': 'Prism', 'x0': 73.5645249, 'x1': 103.3626615, 'top': 647.5531444000001, 'doctop': 647.5531444000001, 'bottom': 657.5157444, 'upright': True, 'height': 9.962599999999952, 'width': 29.798136600000007, 'direction': 'ltr'}\n",
            "{'text': 'RPA', 'x0': 107.1882999, 'x1': 131.3177171, 'top': 647.5531444000001, 'doctop': 647.5531444000001, 'bottom': 657.5157444, 'upright': True, 'height': 9.962599999999952, 'width': 24.129417200000006, 'direction': 'ltr'}\n",
            "{'text': 'Cisco', 'x0': 46.8, 'x1': 73.59640522, 'top': 659.5081444, 'doctop': 659.5081444, 'bottom': 669.4707444000001, 'upright': True, 'height': 9.962600000000066, 'width': 26.796405219999997, 'direction': 'ltr'}\n",
            "{'text': 'Python', 'x0': 77.41208102, 'x1': 114.20396281999999, 'top': 659.5081444, 'doctop': 659.5081444, 'bottom': 669.4707444000001, 'upright': True, 'height': 9.962600000000066, 'width': 36.791881799999985, 'direction': 'ltr'}\n",
            "{'text': 'Course', 'x0': 118.02960122, 'x1': 152.8867461, 'top': 659.5081444, 'doctop': 659.5081444, 'bottom': 669.4707444000001, 'upright': True, 'height': 9.962600000000066, 'width': 34.85714488000001, 'direction': 'ltr'}\n",
            "{'text': 'Other', 'x0': 36.0, 'x1': 74.36184576, 'top': 681.9848, 'doctop': 681.9848, 'bottom': 693.94, 'upright': True, 'height': 11.955200000000104, 'width': 38.361845759999994, 'direction': 'ltr'}\n",
            "{'text': 'Experience', 'x0': 78.88091136, 'x1': 146.96577536, 'top': 681.9848, 'doctop': 681.9848, 'bottom': 693.94, 'upright': True, 'height': 11.955200000000104, 'width': 68.08486400000001, 'direction': 'ltr'}\n",
            "{'text': '•', 'x0': 61.526, 'x1': 65.34508864, 'top': 709.6270544, 'doctop': 709.6270544, 'bottom': 715.6046544, 'upright': True, 'height': 5.9775999999999385, 'width': 3.819088639999997, 'direction': 'ltr'}\n",
            "{'text': 'Solved', 'x0': 70.8, 'x1': 99.02603832, 'top': 707.7171444, 'doctop': 707.7171444, 'bottom': 717.6797444, 'upright': True, 'height': 9.962599999999952, 'width': 28.22603832, 'direction': 'ltr'}\n",
            "{'text': 'over', 'x0': 102.34358412, 'x1': 120.36493126, 'top': 707.7171444, 'doctop': 707.7171444, 'bottom': 717.6797444, 'upright': True, 'height': 9.962599999999952, 'width': 18.021347140000003, 'direction': 'ltr'}\n",
            "{'text': '200+', 'x0': 123.68247706, 'x1': 146.37528733999997, 'top': 707.7171444, 'doctop': 707.7171444, 'bottom': 717.6797444, 'upright': True, 'height': 9.962599999999952, 'width': 22.692810279999975, 'direction': 'ltr'}\n",
            "{'text': 'questions', 'x0': 149.70279574, 'x1': 189.94074088, 'top': 707.7171444, 'doctop': 707.7171444, 'bottom': 717.6797444, 'upright': True, 'height': 9.962599999999952, 'width': 40.237945139999994, 'direction': 'ltr'}\n",
            "{'text': 'on', 'x0': 193.25828668000003, 'x1': 203.77480724, 'top': 707.7171444, 'doctop': 707.7171444, 'bottom': 717.6797444, 'upright': True, 'height': 9.962599999999952, 'width': 10.516520559999975, 'direction': 'ltr'}\n",
            "{'text': 'leetcode.', 'x0': 207.09235304000003, 'x1': 245.0070198600001, 'top': 707.7171444, 'doctop': 707.7171444, 'bottom': 717.6797444, 'upright': True, 'height': 9.962599999999952, 'width': 37.914666820000065, 'direction': 'ltr'}\n",
            "{'text': '•', 'x0': 61.525999999999996, 'x1': 65.34508864, 'top': 723.8110544, 'doctop': 723.8110544, 'bottom': 729.7886544, 'upright': True, 'height': 5.977600000000052, 'width': 3.819088640000004, 'direction': 'ltr'}\n",
            "{'text': 'Engaged', 'x0': 70.8, 'x1': 108.02226612, 'top': 721.6641443999999, 'doctop': 721.6641443999999, 'bottom': 731.6267444, 'upright': True, 'height': 9.962600000000066, 'width': 37.22226612, 'direction': 'ltr'}\n",
            "{'text': 'in', 'x0': 111.33981191999999, 'x1': 119.64264276, 'top': 721.6641443999999, 'doctop': 721.6641443999999, 'bottom': 731.6267444, 'upright': True, 'height': 9.962600000000066, 'width': 8.302830840000013, 'direction': 'ltr'}\n",
            "{'text': '5+', 'x0': 122.96018855999999, 'x1': 135.70036144, 'top': 721.6641443999999, 'doctop': 721.6641443999999, 'bottom': 731.6267444, 'upright': True, 'height': 9.962600000000066, 'width': 12.740172880000003, 'direction': 'ltr'}\n",
            "{'text': 'tech', 'x0': 139.01790724, 'x1': 157.00338902, 'top': 721.6641443999999, 'doctop': 721.6641443999999, 'bottom': 731.6267444, 'upright': True, 'height': 9.962600000000066, 'width': 17.985481779999986, 'direction': 'ltr'}\n",
            "{'text': 'events,', 'x0': 160.32093482, 'x1': 189.9925464, 'top': 721.6641443999999, 'doctop': 721.6641443999999, 'bottom': 731.6267444, 'upright': True, 'height': 9.962600000000066, 'width': 29.671611580000018, 'direction': 'ltr'}\n",
            "{'text': 'participated', 'x0': 193.31009219999999, 'x1': 245.91959402000006, 'top': 721.6641443999999, 'doctop': 721.6641443999999, 'bottom': 731.6267444, 'upright': True, 'height': 9.962600000000066, 'width': 52.60950182000008, 'direction': 'ltr'}\n",
            "{'text': 'in', 'x0': 249.2371398200001, 'x1': 257.5399706600001, 'top': 721.6641443999999, 'doctop': 721.6641443999999, 'bottom': 731.6267444, 'upright': True, 'height': 9.962600000000066, 'width': 8.302830840000013, 'direction': 'ltr'}\n",
            "{'text': 'various', 'x0': 260.8674790600001, 'x1': 291.6648644400001, 'top': 721.6641443999999, 'doctop': 721.6641443999999, 'bottom': 731.6267444, 'upright': True, 'height': 9.962600000000066, 'width': 30.79738537999998, 'direction': 'ltr'}\n",
            "{'text': 'hackathons.', 'x0': 294.98241024000015, 'x1': 345.9620307000002, 'top': 721.6641443999999, 'doctop': 721.6641443999999, 'bottom': 731.6267444, 'upright': True, 'height': 9.962600000000066, 'width': 50.979620460000035, 'direction': 'ltr'}\n"
          ]
        }
      ]
    },
    {
      "cell_type": "code",
      "source": [
        "with pdfplumber.open(\"/content/bhumi_s_resume (5).pdf\") as pdf:\n",
        "  page=pdf.pages[0]\n",
        "  print(page.extract_text())"
      ],
      "metadata": {
        "id": "1d84oxYDFh-z",
        "colab": {
          "base_uri": "https://localhost:8080/"
        },
        "outputId": "1c18443c-3e93-4410-8feb-b39541f31e45"
      },
      "execution_count": null,
      "outputs": [
        {
          "output_type": "stream",
          "name": "stdout",
          "text": [
            "Bhumi Shukla\n",
            "+919170397031 | bhumishukla456@gmail.com | linkedin.com/in/bhumi-shukla | github.com/bhumi432\n",
            "Technical Skills\n",
            "Languages: Java, Python, C/C++, SQL (Postgres), JavaScript, HTML/CSS, Dart\n",
            "Design Architecture: Bloc(flutter) architecture\n",
            "Developer Tools: Git, Android Studio, Visual Studio, PyCharm, IntelliJ, Eclipse, Google colab, Jupyter\n",
            "Libraries: pandas, NumPy, Matplotlib, pytorch\n",
            "Soft Skills: Communication, Leadership, Teamwork, Problem-solving, Presentation skills\n",
            "Education\n",
            "G.L. Bajaj Institute of Technology and Management Greater Noida, Uttar Pradesh\n",
            "Bachelor of Technology in Computer Science, Specialization in Artificial Intelligence Nov 2022 – July 2026\n",
            "MPVM Ganga Gurukulam Prayagraj, Uttar Pradesh\n",
            "Class 12th 2021 – 2022\n",
            "Experience\n",
            "Flutter Developer Internship May 2025 – May 2025\n",
            "The Technovators Remote\n",
            "• Develop and manage software workflows for a fantasy gaming application using Bloc architecture.\n",
            "• Engineer core features of a cricket-based betting style gaming platform, including real-time data handling and user\n",
            "interaction flows.\n",
            "• Collaborate with cross-functional teams to optimize state management using Bloc, improving code maintainability\n",
            "and development efficiency by 30 percent.\n",
            "• Achieveda50percentimprovementinUIperformance, resultinginfasterloadtimeandenhanceduserexperience.\n",
            "• Increase code re-usability by 30 percent and development speed by 20 percent, streamlining the workflow and\n",
            "reducing overall development time.\n",
            "Projects\n",
            "JusticeGPT | HTML, CSS, JavaScript, OpenAI API, Text-to-Speech, Speech-to-Text, js-PDF\n",
            "• Developed an AI-based full-stack web application to solve legal queries of users based on their situational inputs.\n",
            "• Integrated GPT-3.5 API, Web Speech API (TTS/STT), and jsPDF for enhanced interactivity and output.\n",
            "• Contributed to front-end design, modeling the UI for a smooth and user-friendly experience.\n",
            "Tricket App | Flutter, Dart, BLoC , Firebase, REST APIs, Git, Figma\n",
            "• Built a fantasy sports app with real-time team selection, contests, and live score updates.\n",
            "• Managed BLoC architecture and developed modules for team creation, contests, leaderboard, and wallet.\n",
            "• Enhanced performance and maintainability through scalable state management.\n",
            "Face Detection Web App | JavaScript, HTML, CSS, TensorFlow.js, face-api.js\n",
            "• Implemented real-time face detection and facial landmark tracking using deep learning models.\n",
            "• Developed expression recognition system to classify emotions like happy, sad, and neutral.\n",
            "Certifications\n",
            "Google Android Developer\n",
            "Blue Prism RPA\n",
            "Cisco Python Course\n",
            "Other Experience\n",
            "• Solved over 200+ questions on leetcode.\n",
            "• Engaged in 5+ tech events, participated in various hackathons.\n"
          ]
        }
      ]
    },
    {
      "cell_type": "code",
      "source": [
        "with pdfplumber.open(\"/content/bhumi_s_resume (5).pdf\") as pdf:\n",
        "  page=pdf.pages[0]\n",
        "  cropped=page.crop((100,100,300,300))\n",
        "  print(cropped.extract_text())"
      ],
      "metadata": {
        "id": "GPohQs67GnAd",
        "colab": {
          "base_uri": "https://localhost:8080/"
        },
        "outputId": "17a3e7a3-c10a-4533-c625-98cd57d7aca7"
      },
      "execution_count": null,
      "outputs": [
        {
          "output_type": "stream",
          "name": "stdout",
          "text": [
            ": Java, Python, C/C++, SQL (Postgres), Java\n",
            "chitecture: Bloc(flutter) architecture\n",
            "Tools: Git, Android Studio, Visual Studio, P\n",
            "pandas, NumPy, Matplotlib, pytorch\n",
            "Communication, Leadership, Teamwork, Prob\n",
            "aj Institute of Technology and Manag\n",
            "Technology in Computer Science, Specializatio\n",
            "Ganga Gurukulam\n",
            "e\n",
            "eveloper Internship\n",
            "vators\n"
          ]
        }
      ]
    },
    {
      "cell_type": "code",
      "source": [
        "with pdfplumber.open(\"/content/bhumi_s_resume (5).pdf\") as pdf:\n",
        "  page=pdf.pages[0]\n",
        "  print(page.width)\n",
        "  print(page.height)"
      ],
      "metadata": {
        "id": "GfenNlIhH3BB",
        "colab": {
          "base_uri": "https://localhost:8080/"
        },
        "outputId": "a20cc1bd-bc6b-430d-c9e1-9ed67cf35bf5"
      },
      "execution_count": null,
      "outputs": [
        {
          "output_type": "stream",
          "name": "stdout",
          "text": [
            "612\n",
            "792\n"
          ]
        }
      ]
    },
    {
      "cell_type": "code",
      "source": [
        "with pdfplumber.open(\"/content/sample_table.pdf\") as pdf:\n",
        "  page=pdf.pages[0]\n",
        "\n",
        "  table= page.extract_tables({\n",
        "      \"vertical_strategy\":\"lines\",\n",
        "      \"horizontal_strategy\":\"lines\"\n",
        "  })\n",
        "  print(table)"
      ],
      "metadata": {
        "id": "yvNkR8buiOsZ",
        "colab": {
          "base_uri": "https://localhost:8080/"
        },
        "outputId": "4174795c-c86e-4b55-9ce3-2c2bb5d2a3db"
      },
      "execution_count": null,
      "outputs": [
        {
          "output_type": "stream",
          "name": "stdout",
          "text": [
            "[[['ID', 'Name', 'Department', 'Salary'], ['1', 'Alice Smith', 'Engineering', '$80,000'], ['2', 'Bob Johnson', 'Marketing', '$72,000'], ['3', 'Carol White', 'Finance', '$77,000'], ['4', 'David Brown', 'HR', '$69,000'], ['5', 'Eve Davis', 'Engineering', '$85,000']]]\n"
          ]
        }
      ]
    },
    {
      "cell_type": "code",
      "source": [
        "with pdfplumber.open(\"/content/bhumi_s_resume (5).pdf\") as pdf:\n",
        "  page=pdf.pages[0]\n",
        "  region=page.crop((300,100,400,200))\n",
        "  print(region.extract_text())"
      ],
      "metadata": {
        "id": "ulv6j8gsj628",
        "colab": {
          "base_uri": "https://localhost:8080/"
        },
        "outputId": "c0937a9f-a6db-4749-c23e-59cffb6b8482"
      },
      "execution_count": null,
      "outputs": [
        {
          "output_type": "stream",
          "name": "stdout",
          "text": [
            "aScript, HTML/CSS, D\n",
            "PyCharm, IntelliJ, Eclip\n",
            "blem-solving, Presentat\n",
            "gement\n"
          ]
        }
      ]
    },
    {
      "cell_type": "code",
      "source": [
        "import csv\n",
        "with pdfplumber.open(\"/content/sample_table.pdf\") as pdf:\n",
        "  page=pdf.pages[0]\n",
        "  table = page.extract_table()\n",
        "\n",
        "  with open(\"output.csv\",\"w\",newline=\"\") as f:\n",
        "    writer=csv.writer(f)\n",
        "    writer.writerows(table)"
      ],
      "metadata": {
        "id": "U1yB9YTq36l9"
      },
      "execution_count": null,
      "outputs": []
    },
    {
      "cell_type": "code",
      "source": [
        "import pandas as pd\n",
        "df=pd.read_csv(\"/content/output.csv\")\n",
        "pd.set_option(\"display.max_columns\",None)\n",
        "pd.set_option(\"display.max_rows\",None)\n",
        "print(df)"
      ],
      "metadata": {
        "colab": {
          "base_uri": "https://localhost:8080/"
        },
        "id": "5-tYAK6tS4DV",
        "outputId": "3a91f68b-cf5f-4511-8484-551a593a0fea"
      },
      "execution_count": null,
      "outputs": [
        {
          "output_type": "stream",
          "name": "stdout",
          "text": [
            "   ID         Name   Department   Salary\n",
            "0   1  Alice Smith  Engineering  $80,000\n",
            "1   2  Bob Johnson    Marketing  $72,000\n",
            "2   3  Carol White      Finance  $77,000\n",
            "3   4  David Brown           HR  $69,000\n",
            "4   5    Eve Davis  Engineering  $85,000\n"
          ]
        }
      ]
    },
    {
      "cell_type": "code",
      "source": [
        "with pdfplumber.open(\"dynamic.pdf\") as pdf:\n",
        "  for page in pdf.pages:\n",
        "    text=page.extract_text()\n",
        "    if \"invoice number\" in text:\n",
        "    print(\"invoice found\")"
      ],
      "metadata": {
        "colab": {
          "base_uri": "https://localhost:8080/",
          "height": 106
        },
        "id": "YyCH-jJZUqgN",
        "outputId": "64c56321-9cc8-448d-ecac-e329f103ac71"
      },
      "execution_count": null,
      "outputs": [
        {
          "output_type": "error",
          "ename": "IndentationError",
          "evalue": "expected an indented block after 'if' statement on line 4 (ipython-input-1-980903064.py, line 5)",
          "traceback": [
            "\u001b[0;36m  File \u001b[0;32m\"/tmp/ipython-input-1-980903064.py\"\u001b[0;36m, line \u001b[0;32m5\u001b[0m\n\u001b[0;31m    print(\"invoice found\")\u001b[0m\n\u001b[0m    ^\u001b[0m\n\u001b[0;31mIndentationError\u001b[0m\u001b[0;31m:\u001b[0m expected an indented block after 'if' statement on line 4\n"
          ]
        }
      ]
    },
    {
      "cell_type": "code",
      "source": [
        "!pip install pdfplumber"
      ],
      "metadata": {
        "id": "sNVlBKIeKd2A",
        "colab": {
          "base_uri": "https://localhost:8080/"
        },
        "outputId": "0e95b962-2ffb-4c77-d246-5abf3e4c75cc"
      },
      "execution_count": 1,
      "outputs": [
        {
          "output_type": "stream",
          "name": "stdout",
          "text": [
            "Collecting pdfplumber\n",
            "  Downloading pdfplumber-0.11.7-py3-none-any.whl.metadata (42 kB)\n",
            "\u001b[?25l     \u001b[90m━━━━━━━━━━━━━━━━━━━━━━━━━━━━━━━━━━━━━━━━\u001b[0m \u001b[32m0.0/42.8 kB\u001b[0m \u001b[31m?\u001b[0m eta \u001b[36m-:--:--\u001b[0m\r\u001b[2K     \u001b[91m━━━━━━━━━━━━━━━━━━━━━━━━━━━━━━━━━━━━━━\u001b[0m\u001b[90m╺\u001b[0m\u001b[90m━\u001b[0m \u001b[32m41.0/42.8 kB\u001b[0m \u001b[31m30.1 MB/s\u001b[0m eta \u001b[36m0:00:01\u001b[0m\r\u001b[2K     \u001b[90m━━━━━━━━━━━━━━━━━━━━━━━━━━━━━━━━━━━━━━━\u001b[0m \u001b[32m42.8/42.8 kB\u001b[0m \u001b[31m909.8 kB/s\u001b[0m eta \u001b[36m0:00:00\u001b[0m\n",
            "\u001b[?25hCollecting pdfminer.six==20250506 (from pdfplumber)\n",
            "  Downloading pdfminer_six-20250506-py3-none-any.whl.metadata (4.2 kB)\n",
            "Requirement already satisfied: Pillow>=9.1 in /usr/local/lib/python3.11/dist-packages (from pdfplumber) (11.2.1)\n",
            "Collecting pypdfium2>=4.18.0 (from pdfplumber)\n",
            "  Downloading pypdfium2-4.30.1-py3-none-manylinux_2_17_x86_64.manylinux2014_x86_64.whl.metadata (48 kB)\n",
            "\u001b[2K     \u001b[90m━━━━━━━━━━━━━━━━━━━━━━━━━━━━━━━━━━━━━━━━\u001b[0m \u001b[32m48.2/48.2 kB\u001b[0m \u001b[31m1.6 MB/s\u001b[0m eta \u001b[36m0:00:00\u001b[0m\n",
            "\u001b[?25hRequirement already satisfied: charset-normalizer>=2.0.0 in /usr/local/lib/python3.11/dist-packages (from pdfminer.six==20250506->pdfplumber) (3.4.2)\n",
            "Requirement already satisfied: cryptography>=36.0.0 in /usr/local/lib/python3.11/dist-packages (from pdfminer.six==20250506->pdfplumber) (43.0.3)\n",
            "Requirement already satisfied: cffi>=1.12 in /usr/local/lib/python3.11/dist-packages (from cryptography>=36.0.0->pdfminer.six==20250506->pdfplumber) (1.17.1)\n",
            "Requirement already satisfied: pycparser in /usr/local/lib/python3.11/dist-packages (from cffi>=1.12->cryptography>=36.0.0->pdfminer.six==20250506->pdfplumber) (2.22)\n",
            "Downloading pdfplumber-0.11.7-py3-none-any.whl (60 kB)\n",
            "\u001b[2K   \u001b[90m━━━━━━━━━━━━━━━━━━━━━━━━━━━━━━━━━━━━━━━━\u001b[0m \u001b[32m60.0/60.0 kB\u001b[0m \u001b[31m2.7 MB/s\u001b[0m eta \u001b[36m0:00:00\u001b[0m\n",
            "\u001b[?25hDownloading pdfminer_six-20250506-py3-none-any.whl (5.6 MB)\n",
            "\u001b[2K   \u001b[90m━━━━━━━━━━━━━━━━━━━━━━━━━━━━━━━━━━━━━━━━\u001b[0m \u001b[32m5.6/5.6 MB\u001b[0m \u001b[31m23.3 MB/s\u001b[0m eta \u001b[36m0:00:00\u001b[0m\n",
            "\u001b[?25hDownloading pypdfium2-4.30.1-py3-none-manylinux_2_17_x86_64.manylinux2014_x86_64.whl (2.9 MB)\n",
            "\u001b[2K   \u001b[90m━━━━━━━━━━━━━━━━━━━━━━━━━━━━━━━━━━━━━━━━\u001b[0m \u001b[32m2.9/2.9 MB\u001b[0m \u001b[31m26.7 MB/s\u001b[0m eta \u001b[36m0:00:00\u001b[0m\n",
            "\u001b[?25hInstalling collected packages: pypdfium2, pdfminer.six, pdfplumber\n",
            "Successfully installed pdfminer.six-20250506 pdfplumber-0.11.7 pypdfium2-4.30.1\n"
          ]
        }
      ]
    },
    {
      "cell_type": "code",
      "source": [
        "import pdfplumber"
      ],
      "metadata": {
        "id": "-ljaYXIkQ5uX"
      },
      "execution_count": 2,
      "outputs": []
    },
    {
      "cell_type": "code",
      "source": [
        "with pdfplumber.open(\"\")"
      ],
      "metadata": {
        "id": "vyPcZDcqRBF1"
      },
      "execution_count": null,
      "outputs": []
    }
  ]
}