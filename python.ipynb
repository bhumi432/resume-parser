{
  "nbformat": 4,
  "nbformat_minor": 0,
  "metadata": {
    "colab": {
      "provenance": [],
      "authorship_tag": "ABX9TyMkhGwaQYCPUfVkM/pridfg",
      "include_colab_link": true
    },
    "kernelspec": {
      "name": "python3",
      "display_name": "Python 3"
    },
    "language_info": {
      "name": "python"
    }
  },
  "cells": [
    {
      "cell_type": "markdown",
      "metadata": {
        "id": "view-in-github",
        "colab_type": "text"
      },
      "source": [
        "<a href=\"https://colab.research.google.com/github/bhumi432/resume-parser/blob/main/python.ipynb\" target=\"_parent\"><img src=\"https://colab.research.google.com/assets/colab-badge.svg\" alt=\"Open In Colab\"/></a>"
      ]
    },
    {
      "cell_type": "code",
      "source": [
        "import pdfplumber\n",
        "import re\n",
        "import os\n",
        "import pandas as pd"
      ],
      "metadata": {
        "id": "h5CQj5x1rYBx"
      },
      "execution_count": 10,
      "outputs": []
    },
    {
      "cell_type": "code",
      "source": [
        "def extract_text_from_pdf(pdf_path):\n",
        "    with pdfplumber.open(pdf_path) as pdf:\n",
        "        full_text = ''\n",
        "        for page in pdf.pages:\n",
        "            full_text += page.extract_text() + '\\n'\n",
        "    return full_text\n",
        "\n",
        "def extract_email(text):\n",
        "    match = re.search(r'[\\w\\.-]+@[\\w\\.-]+', text)\n",
        "    return match.group(0) if match else None\n",
        "\n",
        "def extract_phone(text):\n",
        "    match = re.search(r'(\\+91[-\\s]?)?[6-9]\\d{9}', text)\n",
        "    return match.group(0) if match else None\n",
        "\n",
        "def extract_skills(text, skill_list):\n",
        "    found_skills = []\n",
        "    for skill in skill_list:\n",
        "        if re.search(rf'\\b{re.escape(skill)}\\b', text, re.IGNORECASE):\n",
        "            found_skills.append(skill)\n",
        "    return found_skills\n",
        "\n",
        "\n"
      ],
      "metadata": {
        "id": "5Pm2KbFzrq_A"
      },
      "execution_count": 11,
      "outputs": []
    },
    {
      "cell_type": "code",
      "source": [
        "skill_keywords = ['Python', 'C++', 'Flutter', 'Dart', 'Machine Learning', 'AI', 'HTML', 'CSS', 'JavaScript']\n",
        "\n",
        "pdf_path = \"/content/Bhumi_Shukla_Resume.pdf\"  # Upload this in Colab or place in your folder\n",
        "\n",
        "text = extract_text_from_pdf(pdf_path)\n",
        "\n",
        "data = {\n",
        "    \"Name\": text.split('\\n')[0],  # assume name is first line\n",
        "    \"Email\": extract_email(text),\n",
        "    \"Phone\": extract_phone(text),\n",
        "    \"Skills\": extract_skills(text, skill_keywords)\n",
        "}\n",
        "\n",
        "print(data)\n"
      ],
      "metadata": {
        "colab": {
          "base_uri": "https://localhost:8080/"
        },
        "id": "bn1qaUYOPhRo",
        "outputId": "0b058c77-1dbb-4994-a870-4d0b44e4a762"
      },
      "execution_count": 12,
      "outputs": [
        {
          "output_type": "stream",
          "name": "stdout",
          "text": [
            "{'Name': 'Bhumi Shukla', 'Email': 'bhumishukla456@gmail.com', 'Phone': '9170397031', 'Skills': ['Python', 'Flutter', 'Dart', 'AI', 'HTML', 'CSS', 'JavaScript']}\n"
          ]
        }
      ]
    },
    {
      "cell_type": "code",
      "source": [],
      "metadata": {
        "id": "QxqNu4F8wW_4"
      },
      "execution_count": 12,
      "outputs": []
    }
  ]
}